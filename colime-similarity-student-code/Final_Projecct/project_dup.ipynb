{
 "cells": [
  {
   "cell_type": "markdown",
   "metadata": {},
   "source": [
    "In your `.gitignore`, add the following line:\n",
    "\n",
    "`*creditcard.zip`"
   ]
  },
  {
   "cell_type": "code",
   "execution_count": 532,
   "metadata": {},
   "outputs": [],
   "source": [
    "import pandas as pd\n",
    "import numpy as np\n",
    "import seaborn as sns\n",
    "import matplotlib.pyplot as plt\n",
    "\n",
    "from sklearn.model_selection import train_test_split\n",
    "from sklearn.metrics import accuracy_score, precision_score, recall_score, confusion_matrix, f1_score"
   ]
  },
  {
   "cell_type": "code",
   "execution_count": 533,
   "metadata": {},
   "outputs": [],
   "source": [
    "import seaborn\n",
    "import matplotlib\n",
    "\n",
    "from pathlib import Path\n",
    "import glob\n",
    "import logging  \n",
    "\n",
    "from sklearn.preprocessing import KBinsDiscretizer\n",
    "\n",
    "\n",
    "plt.rcParams['figure.figsize'] = (14,6)"
   ]
  },
  {
   "cell_type": "markdown",
   "metadata": {},
   "source": [
    "# Class imbalance\n",
    "\n",
    "- What is it?\n",
    "- Why might we care about it?\n",
    "- How can we deal with it?\n",
    "\n",
    "\n",
    "## What is it?"
   ]
  },
  {
   "cell_type": "code",
   "execution_count": 534,
   "metadata": {},
   "outputs": [
    {
     "name": "stdout",
     "output_type": "stream",
     "text": [
      "data/heart.csv\n",
      "data/diabetes_yn.csv\n",
      "data/heart.csv.xls\n",
      "data/diabetes.csv\n",
      "data/o2Saturation.csv.xls\n"
     ]
    }
   ],
   "source": [
    "for name in glob.glob('data/*.*'):\n",
    "    print(name)"
   ]
  },
  {
   "cell_type": "code",
   "execution_count": 535,
   "metadata": {
    "scrolled": true
   },
   "outputs": [],
   "source": [
    "##df = pd.read_csv('creditcard.zip', index_col=0)\n",
    "##df.head()"
   ]
  },
  {
   "cell_type": "code",
   "execution_count": null,
   "metadata": {},
   "outputs": [],
   "source": [
    " "
   ]
  },
  {
   "cell_type": "code",
   "execution_count": 536,
   "metadata": {},
   "outputs": [],
   "source": [
    "heart = pd.read_csv('data/heart.csv.xls', index_col=0)"
   ]
  },
  {
   "cell_type": "code",
   "execution_count": 537,
   "metadata": {},
   "outputs": [],
   "source": [
    "df = heart.copy()"
   ]
  },
  {
   "cell_type": "code",
   "execution_count": 538,
   "metadata": {},
   "outputs": [
    {
     "name": "stdout",
     "output_type": "stream",
     "text": [
      "<class 'pandas.core.frame.DataFrame'>\n",
      "Int64Index: 303 entries, 63 to 57\n",
      "Data columns (total 13 columns):\n",
      " #   Column    Non-Null Count  Dtype  \n",
      "---  ------    --------------  -----  \n",
      " 0   sex       303 non-null    int64  \n",
      " 1   cp        303 non-null    int64  \n",
      " 2   trtbps    303 non-null    int64  \n",
      " 3   chol      303 non-null    int64  \n",
      " 4   fbs       303 non-null    int64  \n",
      " 5   restecg   303 non-null    int64  \n",
      " 6   thalachh  303 non-null    int64  \n",
      " 7   exng      303 non-null    int64  \n",
      " 8   oldpeak   303 non-null    float64\n",
      " 9   slp       303 non-null    int64  \n",
      " 10  caa       303 non-null    int64  \n",
      " 11  thall     303 non-null    int64  \n",
      " 12  output    303 non-null    int64  \n",
      "dtypes: float64(1), int64(12)\n",
      "memory usage: 33.1 KB\n"
     ]
    }
   ],
   "source": [
    "heart.info()"
   ]
  },
  {
   "cell_type": "code",
   "execution_count": 539,
   "metadata": {},
   "outputs": [
    {
     "data": {
      "text/plain": [
       "(303, 13)"
      ]
     },
     "execution_count": 539,
     "metadata": {},
     "output_type": "execute_result"
    }
   ],
   "source": [
    "df.shape"
   ]
  },
  {
   "cell_type": "code",
   "execution_count": 540,
   "metadata": {},
   "outputs": [
    {
     "data": {
      "text/plain": [
       "<AxesSubplot:xlabel='output', ylabel='count'>"
      ]
     },
     "execution_count": 540,
     "metadata": {},
     "output_type": "execute_result"
    },
    {
     "data": {
      "image/png": "[encoded data removed]",
      "text/plain": [
       "<Figure size 1008x432 with 1 Axes>"
      ]
     },
     "metadata": {
      "needs_background": "light"
     },
     "output_type": "display_data"
    }
   ],
   "source": [
    "sns.countplot(x ='output', data = df, palette =\"PiYG_r\" )"
   ]
  },
  {
   "cell_type": "code",
   "execution_count": 541,
   "metadata": {},
   "outputs": [],
   "source": [
    "#df = df.reset_index()\n",
    "#df"
   ]
  },
  {
   "cell_type": "code",
   "execution_count": null,
   "metadata": {},
   "outputs": [],
   "source": [
    "df.head()"
   ]
  },
  {
   "cell_type": "code",
   "execution_count": 543,
   "metadata": {},
   "outputs": [
    {
     "data": {
      "text/plain": [
       "Index(['sex', 'cp', 'trtbps', 'chol', 'fbs', 'restecg', 'thalachh', 'exng',\n",
       "       'oldpeak', 'slp', 'caa', 'thall', 'output'],\n",
       "      dtype='object')"
      ]
     },
     "execution_count": 543,
     "metadata": {},
     "output_type": "execute_result"
    }
   ],
   "source": [
    "df.columns"
   ]
  },
  {
   "cell_type": "code",
   "execution_count": 544,
   "metadata": {},
   "outputs": [
    {
     "data": {
      "text/plain": [
       "1    165\n",
       "0    138\n",
       "Name: output, dtype: int64"
      ]
     },
     "execution_count": 544,
     "metadata": {},
     "output_type": "execute_result"
    }
   ],
   "source": [
    "df['output'].value_counts() #/ df.shape[0]"
   ]
  },
  {
   "cell_type": "code",
   "execution_count": 545,
   "metadata": {},
   "outputs": [
    {
     "data": {
      "text/plain": [
       "1    0.544554\n",
       "0    0.455446\n",
       "Name: output, dtype: float64"
      ]
     },
     "execution_count": 545,
     "metadata": {},
     "output_type": "execute_result"
    }
   ],
   "source": [
    "# df['Class'].value_counts() / df.shape[0]\n",
    "df['output'].value_counts(normalize=True)"
   ]
  },
  {
   "cell_type": "code",
   "execution_count": 546,
   "metadata": {},
   "outputs": [
    {
     "data": {
      "text/plain": [
       "(303, 13)"
      ]
     },
     "execution_count": 546,
     "metadata": {},
     "output_type": "execute_result"
    }
   ],
   "source": [
    "df.shape"
   ]
  },
  {
   "cell_type": "code",
   "execution_count": null,
   "metadata": {},
   "outputs": [],
   "source": []
  },
  {
   "cell_type": "code",
   "execution_count": 547,
   "metadata": {},
   "outputs": [],
   "source": [
    "#chest_pain=pd.get_dummies(df['cp'],prefix='cp',drop_first=True)\n",
    "#df=pd.concat([df,chest_pain],axis=1)\n",
    "#df.drop(['cp'],axis=1,inplace=True)\n",
    "#sp=pd.get_dummies(df['slp'],prefix='slope')\n",
    "#th=pd.get_dummies(df['thall'],prefix='thall')\n",
    "#rest_ecg=pd.get_dummies(df['restecg'],prefix='restecg')\n",
    "#frames=[df,sp,th,rest_ecg]\n",
    "#df=pd.concat(frames,axis=1)\n",
    "#df.drop(['slp','thall','restecg'],axis=1,inplace=True)"
   ]
  },
  {
   "cell_type": "code",
   "execution_count": 548,
   "metadata": {},
   "outputs": [
    {
     "data": {
      "text/html": [
       "<div>\n",
       "<style scoped>\n",
       "    .dataframe tbody tr th:only-of-type {\n",
       "        vertical-align: middle;\n",
       "    }\n",
       "\n",
       "    .dataframe tbody tr th {\n",
       "        vertical-align: top;\n",
       "    }\n",
       "\n",
       "    .dataframe thead th {\n",
       "        text-align: right;\n",
       "    }\n",
       "</style>\n",
       "<table border=\"1\" class=\"dataframe\">\n",
       "  <thead>\n",
       "    <tr style=\"text-align: right;\">\n",
       "      <th></th>\n",
       "      <th>sex</th>\n",
       "      <th>cp</th>\n",
       "      <th>trtbps</th>\n",
       "      <th>chol</th>\n",
       "      <th>fbs</th>\n",
       "      <th>restecg</th>\n",
       "      <th>thalachh</th>\n",
       "      <th>exng</th>\n",
       "      <th>oldpeak</th>\n",
       "      <th>slp</th>\n",
       "      <th>caa</th>\n",
       "      <th>thall</th>\n",
       "      <th>output</th>\n",
       "    </tr>\n",
       "    <tr>\n",
       "      <th>age</th>\n",
       "      <th></th>\n",
       "      <th></th>\n",
       "      <th></th>\n",
       "      <th></th>\n",
       "      <th></th>\n",
       "      <th></th>\n",
       "      <th></th>\n",
       "      <th></th>\n",
       "      <th></th>\n",
       "      <th></th>\n",
       "      <th></th>\n",
       "      <th></th>\n",
       "      <th></th>\n",
       "    </tr>\n",
       "  </thead>\n",
       "  <tbody>\n",
       "    <tr>\n",
       "      <th>63</th>\n",
       "      <td>1</td>\n",
       "      <td>3</td>\n",
       "      <td>145</td>\n",
       "      <td>233</td>\n",
       "      <td>1</td>\n",
       "      <td>0</td>\n",
       "      <td>150</td>\n",
       "      <td>0</td>\n",
       "      <td>2.3</td>\n",
       "      <td>0</td>\n",
       "      <td>0</td>\n",
       "      <td>1</td>\n",
       "      <td>1</td>\n",
       "    </tr>\n",
       "    <tr>\n",
       "      <th>37</th>\n",
       "      <td>1</td>\n",
       "      <td>2</td>\n",
       "      <td>130</td>\n",
       "      <td>250</td>\n",
       "      <td>0</td>\n",
       "      <td>1</td>\n",
       "      <td>187</td>\n",
       "      <td>0</td>\n",
       "      <td>3.5</td>\n",
       "      <td>0</td>\n",
       "      <td>0</td>\n",
       "      <td>2</td>\n",
       "      <td>1</td>\n",
       "    </tr>\n",
       "    <tr>\n",
       "      <th>41</th>\n",
       "      <td>0</td>\n",
       "      <td>1</td>\n",
       "      <td>130</td>\n",
       "      <td>204</td>\n",
       "      <td>0</td>\n",
       "      <td>0</td>\n",
       "      <td>172</td>\n",
       "      <td>0</td>\n",
       "      <td>1.4</td>\n",
       "      <td>2</td>\n",
       "      <td>0</td>\n",
       "      <td>2</td>\n",
       "      <td>1</td>\n",
       "    </tr>\n",
       "    <tr>\n",
       "      <th>56</th>\n",
       "      <td>1</td>\n",
       "      <td>1</td>\n",
       "      <td>120</td>\n",
       "      <td>236</td>\n",
       "      <td>0</td>\n",
       "      <td>1</td>\n",
       "      <td>178</td>\n",
       "      <td>0</td>\n",
       "      <td>0.8</td>\n",
       "      <td>2</td>\n",
       "      <td>0</td>\n",
       "      <td>2</td>\n",
       "      <td>1</td>\n",
       "    </tr>\n",
       "    <tr>\n",
       "      <th>57</th>\n",
       "      <td>0</td>\n",
       "      <td>0</td>\n",
       "      <td>120</td>\n",
       "      <td>354</td>\n",
       "      <td>0</td>\n",
       "      <td>1</td>\n",
       "      <td>163</td>\n",
       "      <td>1</td>\n",
       "      <td>0.6</td>\n",
       "      <td>2</td>\n",
       "      <td>0</td>\n",
       "      <td>2</td>\n",
       "      <td>1</td>\n",
       "    </tr>\n",
       "    <tr>\n",
       "      <th>...</th>\n",
       "      <td>...</td>\n",
       "      <td>...</td>\n",
       "      <td>...</td>\n",
       "      <td>...</td>\n",
       "      <td>...</td>\n",
       "      <td>...</td>\n",
       "      <td>...</td>\n",
       "      <td>...</td>\n",
       "      <td>...</td>\n",
       "      <td>...</td>\n",
       "      <td>...</td>\n",
       "      <td>...</td>\n",
       "      <td>...</td>\n",
       "    </tr>\n",
       "    <tr>\n",
       "      <th>57</th>\n",
       "      <td>0</td>\n",
       "      <td>0</td>\n",
       "      <td>140</td>\n",
       "      <td>241</td>\n",
       "      <td>0</td>\n",
       "      <td>1</td>\n",
       "      <td>123</td>\n",
       "      <td>1</td>\n",
       "      <td>0.2</td>\n",
       "      <td>1</td>\n",
       "      <td>0</td>\n",
       "      <td>3</td>\n",
       "      <td>0</td>\n",
       "    </tr>\n",
       "    <tr>\n",
       "      <th>45</th>\n",
       "      <td>1</td>\n",
       "      <td>3</td>\n",
       "      <td>110</td>\n",
       "      <td>264</td>\n",
       "      <td>0</td>\n",
       "      <td>1</td>\n",
       "      <td>132</td>\n",
       "      <td>0</td>\n",
       "      <td>1.2</td>\n",
       "      <td>1</td>\n",
       "      <td>0</td>\n",
       "      <td>3</td>\n",
       "      <td>0</td>\n",
       "    </tr>\n",
       "    <tr>\n",
       "      <th>68</th>\n",
       "      <td>1</td>\n",
       "      <td>0</td>\n",
       "      <td>144</td>\n",
       "      <td>193</td>\n",
       "      <td>1</td>\n",
       "      <td>1</td>\n",
       "      <td>141</td>\n",
       "      <td>0</td>\n",
       "      <td>3.4</td>\n",
       "      <td>1</td>\n",
       "      <td>2</td>\n",
       "      <td>3</td>\n",
       "      <td>0</td>\n",
       "    </tr>\n",
       "    <tr>\n",
       "      <th>57</th>\n",
       "      <td>1</td>\n",
       "      <td>0</td>\n",
       "      <td>130</td>\n",
       "      <td>131</td>\n",
       "      <td>0</td>\n",
       "      <td>1</td>\n",
       "      <td>115</td>\n",
       "      <td>1</td>\n",
       "      <td>1.2</td>\n",
       "      <td>1</td>\n",
       "      <td>1</td>\n",
       "      <td>3</td>\n",
       "      <td>0</td>\n",
       "    </tr>\n",
       "    <tr>\n",
       "      <th>57</th>\n",
       "      <td>0</td>\n",
       "      <td>1</td>\n",
       "      <td>130</td>\n",
       "      <td>236</td>\n",
       "      <td>0</td>\n",
       "      <td>0</td>\n",
       "      <td>174</td>\n",
       "      <td>0</td>\n",
       "      <td>0.0</td>\n",
       "      <td>1</td>\n",
       "      <td>1</td>\n",
       "      <td>2</td>\n",
       "      <td>0</td>\n",
       "    </tr>\n",
       "  </tbody>\n",
       "</table>\n",
       "<p>303 rows × 13 columns</p>\n",
       "</div>"
      ],
      "text/plain": [
       "     sex  cp  trtbps  chol  fbs  restecg  thalachh  exng  oldpeak  slp  caa  \\\n",
       "age                                                                           \n",
       "63     1   3     145   233    1        0       150     0      2.3    0    0   \n",
       "37     1   2     130   250    0        1       187     0      3.5    0    0   \n",
       "41     0   1     130   204    0        0       172     0      1.4    2    0   \n",
       "56     1   1     120   236    0        1       178     0      0.8    2    0   \n",
       "57     0   0     120   354    0        1       163     1      0.6    2    0   \n",
       "..   ...  ..     ...   ...  ...      ...       ...   ...      ...  ...  ...   \n",
       "57     0   0     140   241    0        1       123     1      0.2    1    0   \n",
       "45     1   3     110   264    0        1       132     0      1.2    1    0   \n",
       "68     1   0     144   193    1        1       141     0      3.4    1    2   \n",
       "57     1   0     130   131    0        1       115     1      1.2    1    1   \n",
       "57     0   1     130   236    0        0       174     0      0.0    1    1   \n",
       "\n",
       "     thall  output  \n",
       "age                 \n",
       "63       1       1  \n",
       "37       2       1  \n",
       "41       2       1  \n",
       "56       2       1  \n",
       "57       2       1  \n",
       "..     ...     ...  \n",
       "57       3       0  \n",
       "45       3       0  \n",
       "68       3       0  \n",
       "57       3       0  \n",
       "57       2       0  \n",
       "\n",
       "[303 rows x 13 columns]"
      ]
     },
     "execution_count": 548,
     "metadata": {},
     "output_type": "execute_result"
    }
   ],
   "source": [
    " df"
   ]
  },
  {
   "cell_type": "markdown",
   "metadata": {},
   "source": [
    "## Why is it a Problem?\n",
    "\n",
    "- Because the classifier has an \"incentive\" to rather predict class 0. It just shows up so much more.\n",
    "    - also depends a bit on the model."
   ]
  },
  {
   "cell_type": "markdown",
   "metadata": {},
   "source": [
    "## How can we deal with it?"
   ]
  },
  {
   "cell_type": "code",
   "execution_count": 549,
   "metadata": {},
   "outputs": [],
   "source": [
    "def print_evaluations(ytrue, ypred, model):\n",
    "    print(f'How does model {model} score:')\n",
    "    print(f'The accuracy of the model is: {round(accuracy_score(ytrue, ypred), 3)}')\n",
    "    print(f'The precision of the model is: {round(precision_score(ytrue, ypred), 3)}')\n",
    "    print(f'The recall of the model is: {round(recall_score(ytrue, ypred), 3)}')\n",
    "    print(f'The f1-score of the model is: {round(f1_score(ytrue, ypred), 3)}')\n",
    "    \n",
    "    #print confusion matrix\n",
    "    fig = plt.figure(figsize=(6, 6))\n",
    "    cm = confusion_matrix(ytrue, ypred)\n",
    "    print(cm)\n",
    "    \n",
    "    #plot the heatmap\n",
    "    ax = plt.subplot()\n",
    "    sns.heatmap(cm, annot=True, ax = ax); #annot=True to annotate cells\n",
    "    # labels, title and ticks\n",
    "    ax.set_xlabel('Predicted labels');ax.set_ylabel('True labels'); \n",
    "    ax.set_title('Confusion Matrix'); \n",
    "    ax.xaxis.set_ticklabels(['no heart diseases', 'heart diseases']); \n",
    "    ax.yaxis.set_ticklabels(['no heart diseases', 'heart diseases'])"
   ]
  },
  {
   "cell_type": "code",
   "execution_count": null,
   "metadata": {},
   "outputs": [],
   "source": []
  },
  {
   "cell_type": "code",
   "execution_count": 550,
   "metadata": {},
   "outputs": [],
   "source": [
    "X = df.iloc[:,:-1] #all rows (:), and all columns EXCEPT for the last one\n",
    "# X = df[df.columns[df.columns != 'Class']] #Alternative\n",
    "\n",
    "y = df['output']"
   ]
  },
  {
   "cell_type": "markdown",
   "metadata": {},
   "source": [
    "# Split the data"
   ]
  },
  {
   "cell_type": "code",
   "execution_count": 551,
   "metadata": {},
   "outputs": [
    {
     "data": {
      "text/plain": [
       "((227, 12), (76, 12), (227,), (76,))"
      ]
     },
     "execution_count": 551,
     "metadata": {},
     "output_type": "execute_result"
    }
   ],
   "source": [
    "X_train, X_test, y_train, y_test = train_test_split(X, y, random_state=10, stratify=y)\n",
    "X_train.shape, X_test.shape, y_train.shape, y_test.shape"
   ]
  },
  {
   "cell_type": "code",
   "execution_count": null,
   "metadata": {},
   "outputs": [],
   "source": []
  },
  {
   "cell_type": "code",
   "execution_count": 552,
   "metadata": {},
   "outputs": [
    {
     "name": "stdout",
     "output_type": "stream",
     "text": [
      "How does model Decision tree classifier  score:\n",
      "The accuracy of the model is: 0.903\n",
      "The precision of the model is: 0.875\n",
      "The recall of the model is: 0.96\n",
      "The f1-score of the model is: 0.915\n",
      "[[ 86  17]\n",
      " [  5 119]]\n"
     ]
    },
    {
     "data": {
      "image/png": "[encoded data removed]",
      "text/plain": [
       "<Figure size 432x432 with 2 Axes>"
      ]
     },
     "metadata": {
      "needs_background": "light"
     },
     "output_type": "display_data"
    }
   ],
   "source": [
    "\n",
    "from sklearn.tree import DecisionTreeClassifier\n",
    "from sklearn.tree import plot_tree\n",
    "\n",
    "mtr = DecisionTreeClassifier(max_depth=4)   #Hyperparameters -> there are many more you can try out against overfitting\n",
    "\n",
    "mtr.fit(X_train, y_train)\n",
    "y_pred = mtr.predict(X_train)   # prediction\n",
    "mtr.score(X_train, y_train)\n",
    "\n",
    "print_evaluations(y_train, y_pred, 'Decision tree classifier ')"
   ]
  },
  {
   "cell_type": "code",
   "execution_count": null,
   "metadata": {},
   "outputs": [],
   "source": []
  },
  {
   "cell_type": "code",
   "execution_count": null,
   "metadata": {},
   "outputs": [],
   "source": []
  },
  {
   "cell_type": "markdown",
   "metadata": {},
   "source": [
    "# Logistic Regression (a)"
   ]
  },
  {
   "cell_type": "code",
   "execution_count": 553,
   "metadata": {},
   "outputs": [],
   "source": [
    "from sklearn.linear_model import LogisticRegression\n",
    "from sklearn import preprocessing\n"
   ]
  },
  {
   "cell_type": "code",
   "execution_count": 554,
   "metadata": {},
   "outputs": [
    {
     "name": "stdout",
     "output_type": "stream",
     "text": [
      "Train set: (212, 12) (212,)\n",
      "Test set: (91, 12) (91,)\n"
     ]
    }
   ],
   "source": [
    "# normalization of the datset\n",
    "X = preprocessing.StandardScaler().fit(X).transform(X)\n",
    "  \n",
    "# Train-and-Test -Split\n",
    "from sklearn.model_selection import train_test_split\n",
    "X_train, X_test, y_train, y_test = train_test_split( \n",
    "        X, y, test_size = 0.3, random_state = 4)\n",
    "print ('Train set:', X_train.shape,  y_train.shape)\n",
    "print ('Test set:', X_test.shape,  y_test.shape)\n"
   ]
  },
  {
   "cell_type": "code",
   "execution_count": 555,
   "metadata": {},
   "outputs": [],
   "source": [
    "from sklearn.linear_model import LogisticRegression\n",
    "logreg = LogisticRegression()\n",
    "logreg.fit(X_train, y_train)\n",
    "y_pred = logreg.predict(X_test)\n"
   ]
  },
  {
   "cell_type": "code",
   "execution_count": 556,
   "metadata": {},
   "outputs": [],
   "source": [
    "#from sklearn.metrics import jaccard_similarity_score\n",
    "from sklearn.metrics import jaccard_score"
   ]
  },
  {
   "cell_type": "code",
   "execution_count": 557,
   "metadata": {},
   "outputs": [
    {
     "name": "stdout",
     "output_type": "stream",
     "text": [
      "\n",
      "Accuracy of the model in jaccard similarity score is =  0.7142857142857143\n"
     ]
    }
   ],
   "source": [
    "# Evaluation and accuracy\n",
    "print('')\n",
    "print('Accuracy of the model in jaccard similarity score is = ', \n",
    "      jaccard_score(y_test, y_pred))"
   ]
  },
  {
   "cell_type": "code",
   "execution_count": 558,
   "metadata": {},
   "outputs": [
    {
     "name": "stdout",
     "output_type": "stream",
     "text": [
      "How does model Jacard LogReg score:\n",
      "The accuracy of the model is: 0.802\n",
      "The precision of the model is: 0.818\n",
      "The recall of the model is: 0.849\n",
      "The f1-score of the model is: 0.833\n",
      "[[28 10]\n",
      " [ 8 45]]\n"
     ]
    },
    {
     "data": {
      "image/png": "[encoded data removed]",
      "text/plain": [
       "<Figure size 432x432 with 2 Axes>"
      ]
     },
     "metadata": {
      "needs_background": "light"
     },
     "output_type": "display_data"
    }
   ],
   "source": [
    "print_evaluations(y_test, y_pred, 'Jacard LogReg')"
   ]
  },
  {
   "cell_type": "code",
   "execution_count": 559,
   "metadata": {},
   "outputs": [],
   "source": [
    "#from sklearn.metrics import jaccard_similarity_score"
   ]
  },
  {
   "cell_type": "markdown",
   "metadata": {},
   "source": [
    "# Logistic Regression (b)"
   ]
  },
  {
   "cell_type": "code",
   "execution_count": 560,
   "metadata": {},
   "outputs": [],
   "source": [
    "from sklearn.linear_model import LogisticRegression\n",
    "\n",
    "model = LogisticRegression() # <-- here we could set hyperparamters\n",
    "model.fit(X_train, y_train)\n",
    "\n",
    "# inspect a, b\n",
    "clg = model.coef_, model.intercept_  # parameters have a _ in scikit"
   ]
  },
  {
   "cell_type": "code",
   "execution_count": null,
   "metadata": {},
   "outputs": [],
   "source": []
  },
  {
   "cell_type": "code",
   "execution_count": 561,
   "metadata": {},
   "outputs": [
    {
     "data": {
      "text/plain": [
       "(array([[-0.82117302,  0.71489381, -0.43056486, -0.13612921,  0.13902054,\n",
       "          0.42974478,  0.45079198, -0.47780098, -0.79440337,  0.44665885,\n",
       "         -0.89791921, -0.7038766 ]]),\n",
       " array([0.10155203]))"
      ]
     },
     "execution_count": 561,
     "metadata": {},
     "output_type": "execute_result"
    }
   ],
   "source": [
    "clg"
   ]
  },
  {
   "cell_type": "code",
   "execution_count": 562,
   "metadata": {},
   "outputs": [
    {
     "data": {
      "text/plain": [
       "(0.8726415094339622, 0.8021978021978022)"
      ]
     },
     "execution_count": 562,
     "metadata": {},
     "output_type": "execute_result"
    }
   ],
   "source": [
    " model.score(X_train, y_train) ,   model.score(X_test, y_test)  "
   ]
  },
  {
   "cell_type": "code",
   "execution_count": 563,
   "metadata": {},
   "outputs": [
    {
     "name": "stdout",
     "output_type": "stream",
     "text": [
      "How does model LogReg score:\n",
      "The accuracy of the model is: 0.802\n",
      "The precision of the model is: 0.818\n",
      "The recall of the model is: 0.849\n",
      "The f1-score of the model is: 0.833\n",
      "[[28 10]\n",
      " [ 8 45]]\n"
     ]
    },
    {
     "data": {
      "image/png": "[encoded data removed]",
      "text/plain": [
       "<Figure size 432x432 with 2 Axes>"
      ]
     },
     "metadata": {
      "needs_background": "light"
     },
     "output_type": "display_data"
    }
   ],
   "source": [
    "print_evaluations(y_test, y_pred, 'LogReg')"
   ]
  },
  {
   "cell_type": "code",
   "execution_count": 564,
   "metadata": {},
   "outputs": [],
   "source": [
    "#pd.DataFrame(model.predict(X))"
   ]
  },
  {
   "cell_type": "code",
   "execution_count": 565,
   "metadata": {},
   "outputs": [],
   "source": [
    "#from sklearn.model_selection import cross_val_score\n",
    "\n",
    "#model = LogisticRegression()\n",
    "#accuracy = cross_val_score(model, X, y, cv=5, scoring='accuracy')\n",
    "#print(\"cross-validation scores\", accuracy)"
   ]
  },
  {
   "cell_type": "code",
   "execution_count": 566,
   "metadata": {},
   "outputs": [
    {
     "data": {
      "text/plain": [
       "array([[ 0.68100522,  1.97312292,  0.76395577, ..., -2.27457861,\n",
       "        -0.71442887, -2.14887271],\n",
       "       [ 0.68100522,  1.00257707, -0.09273778, ..., -2.27457861,\n",
       "        -0.71442887, -0.51292188],\n",
       "       [-1.46841752,  0.03203122, -0.09273778, ...,  0.97635214,\n",
       "        -0.71442887, -0.51292188],\n",
       "       ...,\n",
       "       [ 0.68100522, -0.93851463,  0.70684287, ..., -0.64911323,\n",
       "         1.24459328,  1.12302895],\n",
       "       [ 0.68100522, -0.93851463, -0.09273778, ..., -0.64911323,\n",
       "         0.26508221,  1.12302895],\n",
       "       [-1.46841752,  0.03203122, -0.09273778, ..., -0.64911323,\n",
       "         0.26508221, -0.51292188]])"
      ]
     },
     "execution_count": 566,
     "metadata": {},
     "output_type": "execute_result"
    }
   ],
   "source": [
    "X"
   ]
  },
  {
   "cell_type": "code",
   "execution_count": 567,
   "metadata": {},
   "outputs": [
    {
     "data": {
      "text/plain": [
       "array([0, 0, 1, 0, 1, 1, 0, 1, 1, 1, 1, 1, 0, 0, 0, 1, 0, 1, 0, 1, 1, 0,\n",
       "       1, 1, 1, 0, 1, 0, 1, 1, 0, 1, 1, 1, 1, 0, 0, 0, 1, 1, 1, 1, 0, 0,\n",
       "       0, 0, 1, 0, 1, 1, 1, 0, 1, 0, 1, 1, 0, 1, 1, 0, 1, 0, 1, 0, 1, 1,\n",
       "       1, 1, 0, 1, 1, 1, 0, 1, 0, 0, 0, 1, 1, 1, 1, 1, 1, 0, 0, 0, 1, 0,\n",
       "       1, 1, 0, 0, 1, 1, 0, 0, 0, 0, 0, 1, 0, 1, 1, 1, 0, 1, 1, 1, 1, 1,\n",
       "       1, 0, 1, 1, 0, 0, 1, 0, 0, 0, 0, 1, 1, 0, 0, 1, 0, 1, 0, 1, 1, 0,\n",
       "       1, 1, 1, 1, 0, 1, 0, 1, 0, 1, 1, 0, 1, 0, 1, 1, 1, 1, 0, 1, 0, 1,\n",
       "       1, 0, 1, 0, 0, 0, 1, 1, 0, 0, 0, 0, 0, 0, 0, 1, 1, 1, 1, 0, 0, 1,\n",
       "       0, 0, 1, 1, 0, 0, 1, 0, 1, 0, 1, 0, 0, 1, 1, 1, 0, 0, 1, 0, 1, 1,\n",
       "       0, 1, 0, 1, 1, 1, 1, 1, 0, 1, 1, 0, 0, 1])"
      ]
     },
     "execution_count": 567,
     "metadata": {},
     "output_type": "execute_result"
    }
   ],
   "source": [
    "model.predict(X_train)"
   ]
  },
  {
   "cell_type": "code",
   "execution_count": 568,
   "metadata": {},
   "outputs": [],
   "source": [
    "#prob_reg= model.predict_proba(X_train)"
   ]
  },
  {
   "cell_type": "code",
   "execution_count": 569,
   "metadata": {},
   "outputs": [
    {
     "data": {
      "text/plain": [
       "array([[ 0.68100522, -0.93851463,  0.47839125, ..., -2.27457861,\n",
       "        -0.71442887,  1.12302895],\n",
       "       [ 0.68100522, -0.93851463,  0.02148802, ..., -0.64911323,\n",
       "         0.26508221, -2.14887271],\n",
       "       [ 0.68100522,  1.00257707, -0.09273778, ...,  0.97635214,\n",
       "         2.22410436, -0.51292188],\n",
       "       ...,\n",
       "       [ 0.68100522, -0.93851463, -0.3783023 , ..., -0.64911323,\n",
       "         1.24459328,  1.12302895],\n",
       "       [ 0.68100522, -0.93851463, -0.09273778, ..., -0.64911323,\n",
       "         1.24459328,  1.12302895],\n",
       "       [-1.46841752,  1.00257707, -1.12077005, ...,  0.97635214,\n",
       "        -0.71442887, -0.51292188]])"
      ]
     },
     "execution_count": 569,
     "metadata": {},
     "output_type": "execute_result"
    }
   ],
   "source": [
    "X_train"
   ]
  },
  {
   "cell_type": "code",
   "execution_count": 570,
   "metadata": {},
   "outputs": [
    {
     "data": {
      "text/plain": [
       "Index(['sex', 'cp', 'trtbps', 'chol', 'fbs', 'restecg', 'thalachh', 'exng',\n",
       "       'oldpeak', 'slp', 'caa', 'thall', 'output'],\n",
       "      dtype='object')"
      ]
     },
     "execution_count": 570,
     "metadata": {},
     "output_type": "execute_result"
    }
   ],
   "source": [
    "df.columns"
   ]
  },
  {
   "cell_type": "markdown",
   "metadata": {},
   "source": [
    "# Train the model decison tree"
   ]
  },
  {
   "cell_type": "code",
   "execution_count": 571,
   "metadata": {},
   "outputs": [
    {
     "name": "stdout",
     "output_type": "stream",
     "text": [
      "How does model Decision tree classifier  score:\n",
      "The accuracy of the model is: 0.925\n",
      "The precision of the model is: 0.944\n",
      "The recall of the model is: 0.911\n",
      "The f1-score of the model is: 0.927\n",
      "[[ 94   6]\n",
      " [ 10 102]]\n"
     ]
    },
    {
     "data": {
      "image/png": "[encoded data removed]",
      "text/plain": [
       "<Figure size 432x432 with 2 Axes>"
      ]
     },
     "metadata": {
      "needs_background": "light"
     },
     "output_type": "display_data"
    }
   ],
   "source": [
    "\n",
    "from sklearn.tree import DecisionTreeClassifier\n",
    "from sklearn.tree import plot_tree\n",
    "\n",
    "mtr = DecisionTreeClassifier(max_depth=4)   #Hyperparameters -> there are many more you can try out against overfitting\n",
    "\n",
    "mtr.fit(X_train, y_train)\n",
    "y_pred = mtr.predict(X_train)   # prediction\n",
    "mtr.score(X_train, y_train)\n",
    "\n",
    "print_evaluations(y_train, y_pred, 'Decision tree classifier ')\n",
    "\n"
   ]
  },
  {
   "cell_type": "code",
   "execution_count": 572,
   "metadata": {},
   "outputs": [],
   "source": [
    "from sklearn.tree import DecisionTreeClassifier\n",
    "from sklearn.tree import plot_tree\n"
   ]
  },
  {
   "cell_type": "code",
   "execution_count": 573,
   "metadata": {},
   "outputs": [],
   "source": [
    "mtr = DecisionTreeClassifier(max_depth=4)   #Hyperparameters -> there are many more you can try out against overfitting"
   ]
  },
  {
   "cell_type": "code",
   "execution_count": 574,
   "metadata": {},
   "outputs": [
    {
     "data": {
      "text/plain": [
       "DecisionTreeClassifier(max_depth=4)"
      ]
     },
     "execution_count": 574,
     "metadata": {},
     "output_type": "execute_result"
    }
   ],
   "source": [
    "mtr.fit(X_train, y_train)"
   ]
  },
  {
   "cell_type": "code",
   "execution_count": 575,
   "metadata": {},
   "outputs": [],
   "source": [
    "y_pred = mtr.predict(X_train)   # prediction"
   ]
  },
  {
   "cell_type": "code",
   "execution_count": 576,
   "metadata": {},
   "outputs": [
    {
     "data": {
      "text/plain": [
       "array([0, 0, 0, 0, 1, 1, 0, 1, 1, 1, 1, 1, 0, 1, 0, 1, 0, 1, 0, 1, 1, 0,\n",
       "       0, 1, 1, 0, 1, 0, 1, 0, 0, 1, 1, 1, 0, 0, 0, 0, 1, 1, 1, 1, 0, 0,\n",
       "       0, 0, 1, 0, 0, 1, 1, 0, 1, 0, 1, 0, 0, 1, 1, 0, 1, 0, 1, 0, 1, 1,\n",
       "       1, 1, 0, 1, 0, 1, 0, 0, 0, 0, 0, 1, 1, 1, 1, 1, 1, 0, 0, 0, 1, 0,\n",
       "       1, 1, 1, 0, 0, 0, 0, 0, 0, 0, 0, 1, 0, 1, 1, 1, 0, 1, 1, 1, 1, 0,\n",
       "       0, 1, 1, 1, 1, 0, 1, 0, 0, 0, 0, 1, 1, 0, 0, 1, 0, 1, 0, 1, 1, 0,\n",
       "       0, 1, 1, 1, 0, 1, 1, 1, 0, 1, 1, 0, 1, 0, 1, 1, 1, 0, 0, 1, 1, 0,\n",
       "       1, 0, 0, 0, 0, 0, 1, 0, 0, 0, 0, 0, 0, 0, 0, 1, 0, 1, 1, 0, 0, 1,\n",
       "       0, 0, 1, 1, 0, 1, 1, 0, 1, 0, 1, 0, 0, 1, 1, 1, 0, 0, 1, 0, 1, 1,\n",
       "       0, 1, 0, 1, 1, 1, 1, 1, 0, 1, 1, 0, 0, 1])"
      ]
     },
     "execution_count": 576,
     "metadata": {},
     "output_type": "execute_result"
    }
   ],
   "source": [
    "y_pred"
   ]
  },
  {
   "cell_type": "code",
   "execution_count": 577,
   "metadata": {},
   "outputs": [
    {
     "data": {
      "text/plain": [
       "0.9245283018867925"
      ]
     },
     "execution_count": 577,
     "metadata": {},
     "output_type": "execute_result"
    }
   ],
   "source": [
    "mtr.score(X_train, y_train)"
   ]
  },
  {
   "cell_type": "code",
   "execution_count": 578,
   "metadata": {},
   "outputs": [
    {
     "name": "stdout",
     "output_type": "stream",
     "text": [
      "How does model Decision tree classifier  score:\n",
      "The accuracy of the model is: 0.925\n",
      "The precision of the model is: 0.944\n",
      "The recall of the model is: 0.911\n",
      "The f1-score of the model is: 0.927\n",
      "[[ 94   6]\n",
      " [ 10 102]]\n"
     ]
    },
    {
     "data": {
      "image/png": "[encoded data removed]",
      "text/plain": [
       "<Figure size 432x432 with 2 Axes>"
      ]
     },
     "metadata": {
      "needs_background": "light"
     },
     "output_type": "display_data"
    }
   ],
   "source": [
    "print_evaluations(y_train, y_pred, 'Decision tree classifier ')"
   ]
  },
  {
   "cell_type": "code",
   "execution_count": 579,
   "metadata": {},
   "outputs": [
    {
     "data": {
      "text/plain": [
       "Index(['sex', 'cp', 'trtbps', 'chol', 'fbs', 'restecg', 'thalachh', 'exng',\n",
       "       'oldpeak', 'slp', 'caa', 'thall', 'output'],\n",
       "      dtype='object')"
      ]
     },
     "execution_count": 579,
     "metadata": {},
     "output_type": "execute_result"
    }
   ],
   "source": [
    "df.columns"
   ]
  },
  {
   "cell_type": "code",
   "execution_count": 580,
   "metadata": {},
   "outputs": [
    {
     "data": {
      "text/plain": [
       "[Text(355.725, 293.54400000000004, 'caa <= -0.225\\ngini = 0.498\\nsamples = 212\\nvalue = [100, 112]\\nclass = diseases'),\n",
       " Text(153.45000000000002, 228.312, 'thall <= 0.305\\ngini = 0.347\\nsamples = 112\\nvalue = [25, 87]\\nclass = diseases'),\n",
       " Text(83.7, 163.08000000000004, 'oldpeak <= 1.519\\ngini = 0.171\\nsamples = 85\\nvalue = [8, 77]\\nclass = diseases'),\n",
       " Text(55.800000000000004, 97.84800000000001, 'thalachh <= -2.893\\ngini = 0.115\\nsamples = 82\\nvalue = [5, 77]\\nclass = diseases'),\n",
       " Text(27.900000000000002, 32.61600000000004, 'gini = 0.0\\nsamples = 1\\nvalue = [1, 0]\\nclass = no diseases'),\n",
       " Text(83.7, 32.61600000000004, 'gini = 0.094\\nsamples = 81\\nvalue = [4, 77]\\nclass = diseases'),\n",
       " Text(111.60000000000001, 97.84800000000001, 'gini = 0.0\\nsamples = 3\\nvalue = [3, 0]\\nclass = no diseases'),\n",
       " Text(223.20000000000002, 163.08000000000004, 'oldpeak <= -0.293\\ngini = 0.466\\nsamples = 27\\nvalue = [17, 10]\\nclass = no diseases'),\n",
       " Text(167.4, 97.84800000000001, 'thalachh <= 1.196\\ngini = 0.32\\nsamples = 10\\nvalue = [2, 8]\\nclass = diseases'),\n",
       " Text(139.5, 32.61600000000004, 'gini = 0.198\\nsamples = 9\\nvalue = [1, 8]\\nclass = diseases'),\n",
       " Text(195.3, 32.61600000000004, 'gini = 0.0\\nsamples = 1\\nvalue = [1, 0]\\nclass = no diseases'),\n",
       " Text(279.0, 97.84800000000001, 'chol <= 3.676\\ngini = 0.208\\nsamples = 17\\nvalue = [15, 2]\\nclass = no diseases'),\n",
       " Text(251.10000000000002, 32.61600000000004, 'gini = 0.117\\nsamples = 16\\nvalue = [15, 1]\\nclass = no diseases'),\n",
       " Text(306.90000000000003, 32.61600000000004, 'gini = 0.0\\nsamples = 1\\nvalue = [0, 1]\\nclass = diseases'),\n",
       " Text(558.0, 228.312, 'cp <= -0.453\\ngini = 0.375\\nsamples = 100\\nvalue = [75, 25]\\nclass = no diseases'),\n",
       " Text(446.40000000000003, 163.08000000000004, 'trtbps <= -1.292\\ngini = 0.119\\nsamples = 63\\nvalue = [59, 4]\\nclass = no diseases'),\n",
       " Text(390.6, 97.84800000000001, 'chol <= -0.247\\ngini = 0.48\\nsamples = 5\\nvalue = [3, 2]\\nclass = no diseases'),\n",
       " Text(362.70000000000005, 32.61600000000004, 'gini = 0.0\\nsamples = 2\\nvalue = [0, 2]\\nclass = diseases'),\n",
       " Text(418.50000000000006, 32.61600000000004, 'gini = 0.0\\nsamples = 3\\nvalue = [3, 0]\\nclass = no diseases'),\n",
       " Text(502.20000000000005, 97.84800000000001, 'chol <= 1.067\\ngini = 0.067\\nsamples = 58\\nvalue = [56, 2]\\nclass = no diseases'),\n",
       " Text(474.3, 32.61600000000004, 'gini = 0.0\\nsamples = 49\\nvalue = [49, 0]\\nclass = no diseases'),\n",
       " Text(530.1, 32.61600000000004, 'gini = 0.346\\nsamples = 9\\nvalue = [7, 2]\\nclass = no diseases'),\n",
       " Text(669.6, 163.08000000000004, 'slp <= 0.164\\ngini = 0.491\\nsamples = 37\\nvalue = [16, 21]\\nclass = diseases'),\n",
       " Text(613.8000000000001, 97.84800000000001, 'caa <= 2.714\\ngini = 0.355\\nsamples = 13\\nvalue = [10, 3]\\nclass = no diseases'),\n",
       " Text(585.9000000000001, 32.61600000000004, 'gini = 0.278\\nsamples = 12\\nvalue = [10, 2]\\nclass = no diseases'),\n",
       " Text(641.7, 32.61600000000004, 'gini = 0.0\\nsamples = 1\\nvalue = [0, 1]\\nclass = diseases'),\n",
       " Text(725.4000000000001, 97.84800000000001, 'restecg <= -0.053\\ngini = 0.375\\nsamples = 24\\nvalue = [6, 18]\\nclass = diseases'),\n",
       " Text(697.5, 32.61600000000004, 'gini = 0.5\\nsamples = 10\\nvalue = [5, 5]\\nclass = no diseases'),\n",
       " Text(753.3000000000001, 32.61600000000004, 'gini = 0.133\\nsamples = 14\\nvalue = [1, 13]\\nclass = diseases')]"
      ]
     },
     "execution_count": 580,
     "metadata": {},
     "output_type": "execute_result"
    },
    {
     "data": {
      "image/png": "[encoded data removed]",
      "text/plain": [
       "<Figure size 1008x432 with 1 Axes>"
      ]
     },
     "metadata": {
      "needs_background": "light"
     },
     "output_type": "display_data"
    }
   ],
   "source": [
    "plot_tree(mtr, feature_names=['sex','cp', 'trtbps', 'chol', 'fbs', 'restecg', 'thalachh', 'exng',\n",
    "       'oldpeak', 'slp', 'caa', 'thall'], class_names=['no diseases','diseases'], filled =True  )\n"
   ]
  },
  {
   "cell_type": "code",
   "execution_count": null,
   "metadata": {},
   "outputs": [],
   "source": []
  },
  {
   "cell_type": "code",
   "execution_count": null,
   "metadata": {},
   "outputs": [],
   "source": []
  },
  {
   "cell_type": "markdown",
   "metadata": {},
   "source": [
    "#### Build a simple baseline model"
   ]
  },
  {
   "cell_type": "code",
   "execution_count": 581,
   "metadata": {},
   "outputs": [],
   "source": [
    "ypred_baseline = [1] * len(y_train.values)\n",
    "#generating predictions of all zero, i.e. the model guesses NOT FRAUD for all cases."
   ]
  },
  {
   "cell_type": "code",
   "execution_count": 582,
   "metadata": {},
   "outputs": [
    {
     "name": "stdout",
     "output_type": "stream",
     "text": [
      "How does model Baseline Model score:\n",
      "The accuracy of the model is: 0.528\n",
      "The precision of the model is: 0.528\n",
      "The recall of the model is: 1.0\n",
      "The f1-score of the model is: 0.691\n",
      "[[  0 100]\n",
      " [  0 112]]\n"
     ]
    },
    {
     "data": {
      "image/png": "[encoded data removed]",
      "text/plain": [
       "<Figure size 432x432 with 2 Axes>"
      ]
     },
     "metadata": {
      "needs_background": "light"
     },
     "output_type": "display_data"
    }
   ],
   "source": [
    "print_evaluations(y_train, ypred_baseline, 'Baseline Model')"
   ]
  },
  {
   "cell_type": "code",
   "execution_count": null,
   "metadata": {},
   "outputs": [],
   "source": []
  },
  {
   "cell_type": "markdown",
   "metadata": {},
   "source": [
    "#### Compare it to a random forest classifier"
   ]
  },
  {
   "cell_type": "code",
   "execution_count": 583,
   "metadata": {},
   "outputs": [],
   "source": [
    "from sklearn.ensemble import RandomForestClassifier\n",
    "\n",
    "rf = RandomForestClassifier(n_estimators=20, max_depth=3, random_state=10)"
   ]
  },
  {
   "cell_type": "code",
   "execution_count": 584,
   "metadata": {
    "scrolled": true
   },
   "outputs": [
    {
     "data": {
      "text/plain": [
       "RandomForestClassifier(max_depth=3, n_estimators=20, random_state=10)"
      ]
     },
     "execution_count": 584,
     "metadata": {},
     "output_type": "execute_result"
    }
   ],
   "source": [
    "rf.fit(X_train, y_train)"
   ]
  },
  {
   "cell_type": "code",
   "execution_count": 585,
   "metadata": {},
   "outputs": [],
   "source": [
    "ypred_rf = rf.predict(X_test)"
   ]
  },
  {
   "cell_type": "code",
   "execution_count": 586,
   "metadata": {},
   "outputs": [
    {
     "data": {
      "text/plain": [
       "array([1, 0, 1, 1, 0, 0, 0, 1, 0, 0, 1, 1, 1, 0, 1, 0, 1, 1, 0, 0, 1, 1,\n",
       "       0, 0, 1, 0, 0, 1, 1, 0, 0, 1, 1, 1, 1, 1, 1, 1, 1, 0, 0, 0, 0, 1,\n",
       "       1, 1, 0, 0, 0, 1, 0, 1, 0, 1, 1, 1, 1, 1, 0, 0, 1, 1, 1, 1, 1, 1,\n",
       "       0, 1, 1, 0, 0, 1, 1, 1, 1, 1, 1, 1, 1, 0, 1, 1, 0, 1, 0, 1, 1, 0,\n",
       "       0, 1, 1])"
      ]
     },
     "execution_count": 586,
     "metadata": {},
     "output_type": "execute_result"
    }
   ],
   "source": [
    "ypred_rf"
   ]
  },
  {
   "cell_type": "code",
   "execution_count": 587,
   "metadata": {},
   "outputs": [
    {
     "name": "stdout",
     "output_type": "stream",
     "text": [
      "How does model RandomForest score:\n",
      "The accuracy of the model is: 0.813\n",
      "The precision of the model is: 0.821\n",
      "The recall of the model is: 0.868\n",
      "The f1-score of the model is: 0.844\n",
      "[[28 10]\n",
      " [ 7 46]]\n"
     ]
    },
    {
     "data": {
      "image/png": "[encoded data removed]",
      "text/plain": [
       "<Figure size 432x432 with 2 Axes>"
      ]
     },
     "metadata": {
      "needs_background": "light"
     },
     "output_type": "display_data"
    }
   ],
   "source": [
    "print_evaluations(y_test, ypred_rf, 'RandomForest')"
   ]
  },
  {
   "cell_type": "code",
   "execution_count": null,
   "metadata": {},
   "outputs": [],
   "source": []
  },
  {
   "cell_type": "markdown",
   "metadata": {},
   "source": [
    "# New "
   ]
  },
  {
   "cell_type": "code",
   "execution_count": 588,
   "metadata": {},
   "outputs": [],
   "source": [
    "X = df.iloc[:,:-1] #all rows (:), and all columns EXCEPT for the last one\n",
    "# X = df[df.columns[df.columns != 'Class']] #Alternative\n",
    "\n",
    "y = df['output']"
   ]
  },
  {
   "cell_type": "code",
   "execution_count": 589,
   "metadata": {},
   "outputs": [
    {
     "data": {
      "text/plain": [
       "(303, 13)"
      ]
     },
     "execution_count": 589,
     "metadata": {},
     "output_type": "execute_result"
    }
   ],
   "source": [
    "df.shape"
   ]
  },
  {
   "cell_type": "code",
   "execution_count": 590,
   "metadata": {},
   "outputs": [
    {
     "data": {
      "text/plain": [
       "((227, 12), (76, 12), (227,), (76,))"
      ]
     },
     "execution_count": 590,
     "metadata": {},
     "output_type": "execute_result"
    }
   ],
   "source": [
    "X_train, X_test, y_train, y_test = train_test_split(X, y, random_state=10, stratify=y)\n",
    "X_train.shape, X_test.shape, y_train.shape, y_test.shape"
   ]
  },
  {
   "cell_type": "code",
   "execution_count": 591,
   "metadata": {},
   "outputs": [
    {
     "data": {
      "text/plain": [
       "227"
      ]
     },
     "execution_count": 591,
     "metadata": {},
     "output_type": "execute_result"
    }
   ],
   "source": [
    "103+124"
   ]
  },
  {
   "cell_type": "markdown",
   "metadata": {},
   "source": [
    "### Methods to improve: Use Undersampling"
   ]
  },
  {
   "cell_type": "code",
   "execution_count": 592,
   "metadata": {},
   "outputs": [],
   "source": [
    "# !pip install imbalanced-learn"
   ]
  },
  {
   "cell_type": "code",
   "execution_count": 593,
   "metadata": {},
   "outputs": [],
   "source": [
    "from imblearn.under_sampling import RandomUnderSampler, NearMiss"
   ]
  },
  {
   "cell_type": "code",
   "execution_count": 594,
   "metadata": {},
   "outputs": [
    {
     "data": {
      "text/plain": [
       "(103, 124)"
      ]
     },
     "execution_count": 594,
     "metadata": {},
     "output_type": "execute_result"
    }
   ],
   "source": [
    "(y_train == 0).sum(), (y_train == 1).sum()"
   ]
  },
  {
   "cell_type": "markdown",
   "metadata": {},
   "source": [
    "Instantiating the models:\n",
    "- just declaring them with their hyperparameters."
   ]
  },
  {
   "cell_type": "code",
   "execution_count": 595,
   "metadata": {},
   "outputs": [],
   "source": [
    "rus = RandomUnderSampler(sampling_strategy={0:95},random_state=10)\n",
    "# we are asking for 95 data points out of 103 in the first class.\n",
    "\n",
    "nm = NearMiss(sampling_strategy={0: 95})"
   ]
  },
  {
   "cell_type": "markdown",
   "metadata": {},
   "source": [
    "Actually do the transformation, i.e. resampling:"
   ]
  },
  {
   "cell_type": "code",
   "execution_count": 596,
   "metadata": {},
   "outputs": [],
   "source": [
    "X_train_rus, y_train_rus = rus.fit_resample(X_train, y_train) #fit_resample() new imblearn syntax\n",
    "#very conceptually similar to .fit_transform() <---sklearn\n",
    "\n",
    "X_train_nm, y_train_nm = nm.fit_resample(X_train, y_train) \n",
    "\n"
   ]
  },
  {
   "cell_type": "code",
   "execution_count": 597,
   "metadata": {},
   "outputs": [
    {
     "data": {
      "text/plain": [
       "(219, 12)"
      ]
     },
     "execution_count": 597,
     "metadata": {},
     "output_type": "execute_result"
    }
   ],
   "source": [
    "X_train_rus.shape #20,000 non-frauds and 369 frauds. As opposed to 213,000 non-frauds."
   ]
  },
  {
   "cell_type": "code",
   "execution_count": 598,
   "metadata": {},
   "outputs": [],
   "source": [
    "### Exact same code as before, but this time we are training the Random Forest on the undersampled  / down-sampled\n",
    "rf.fit(X_train_rus, y_train_rus)\n",
    "ypred_rus = rf.predict(X_test)"
   ]
  },
  {
   "cell_type": "code",
   "execution_count": 599,
   "metadata": {},
   "outputs": [
    {
     "name": "stdout",
     "output_type": "stream",
     "text": [
      "How does model Random Undersampling score:\n",
      "The accuracy of the model is: 0.868\n",
      "The precision of the model is: 0.878\n",
      "The recall of the model is: 0.878\n",
      "The f1-score of the model is: 0.878\n",
      "[[30  5]\n",
      " [ 5 36]]\n"
     ]
    },
    {
     "data": {
      "image/png": "[encoded data removed]",
      "text/plain": [
       "<Figure size 432x432 with 2 Axes>"
      ]
     },
     "metadata": {
      "needs_background": "light"
     },
     "output_type": "display_data"
    }
   ],
   "source": [
    "print_evaluations(y_test, ypred_rus, 'Random Undersampling')"
   ]
  },
  {
   "cell_type": "markdown",
   "metadata": {},
   "source": [
    "In `sklearn`, there are 2 types of \"models\":\n",
    "1. Transformative / Feature Engineering models\n",
    "    - scalers\n",
    "    - binners\n",
    "    - interpolators\n",
    "    - polynomial features\n",
    "    - they all use the `.fit()` and the `.transform()` methods.\n",
    "2. Predictive Models\n",
    "    - Tree-based models\n",
    "    - Linear Models\n",
    "    - Support vector machines\n",
    "    - they all use the `.fit()` and the `.predict()` methods."
   ]
  },
  {
   "cell_type": "code",
   "execution_count": null,
   "metadata": {},
   "outputs": [],
   "source": []
  },
  {
   "cell_type": "code",
   "execution_count": 600,
   "metadata": {},
   "outputs": [
    {
     "name": "stdout",
     "output_type": "stream",
     "text": [
      "How does model Near Miss score:\n",
      "The accuracy of the model is: 0.842\n",
      "The precision of the model is: 0.872\n",
      "The recall of the model is: 0.829\n",
      "The f1-score of the model is: 0.85\n",
      "[[30  5]\n",
      " [ 7 34]]\n"
     ]
    },
    {
     "data": {
      "image/png": "[encoded data removed]",
      "text/plain": [
       "<Figure size 432x432 with 2 Axes>"
      ]
     },
     "metadata": {
      "needs_background": "light"
     },
     "output_type": "display_data"
    }
   ],
   "source": [
    "### Exact same code as before, but this time we are training the Random Forest on the undersampled  / down-sampled data using Near Miss\n",
    "rf.fit(X_train_nm, y_train_nm)\n",
    "ypred_nm = rf.predict(X_test)\n",
    "print_evaluations(y_test, ypred_nm, 'Near Miss')"
   ]
  },
  {
   "cell_type": "code",
   "execution_count": null,
   "metadata": {},
   "outputs": [],
   "source": []
  },
  {
   "cell_type": "markdown",
   "metadata": {},
   "source": [
    "### Use Oversampling"
   ]
  },
  {
   "cell_type": "code",
   "execution_count": 601,
   "metadata": {},
   "outputs": [],
   "source": [
    "from imblearn.over_sampling import RandomOverSampler, SMOTE"
   ]
  },
  {
   "cell_type": "markdown",
   "metadata": {},
   "source": [
    "#### Random over sampling with replacement"
   ]
  },
  {
   "cell_type": "code",
   "execution_count": 602,
   "metadata": {},
   "outputs": [],
   "source": [
    "# Oversample to 20000\n",
    "ros = RandomOverSampler(random_state=10, sampling_strategy={1: 520}) #\"up-sampling\" the minority class to have 20_000 samples (up from 369)"
   ]
  },
  {
   "cell_type": "code",
   "execution_count": 603,
   "metadata": {},
   "outputs": [
    {
     "name": "stderr",
     "output_type": "stream",
     "text": [
      "/opt/anaconda3/lib/python3.8/site-packages/imblearn/utils/_validation.py:299: UserWarning: After over-sampling, the number of samples (520) in class 1 will be larger than the number of samples in the majority class (class #1 -> 124)\n",
      "  warnings.warn(\n"
     ]
    }
   ],
   "source": [
    "X_train_ros, y_train_ros = ros.fit_resample(X_train, y_train)"
   ]
  },
  {
   "cell_type": "code",
   "execution_count": 604,
   "metadata": {},
   "outputs": [
    {
     "data": {
      "text/plain": [
       "((623, 12), (227, 12))"
      ]
     },
     "execution_count": 604,
     "metadata": {},
     "output_type": "execute_result"
    }
   ],
   "source": [
    "X_train_ros.shape, X_train.shape\n",
    "#the oversampled dataframe now has  more rows than before."
   ]
  },
  {
   "cell_type": "code",
   "execution_count": 605,
   "metadata": {},
   "outputs": [
    {
     "name": "stdout",
     "output_type": "stream",
     "text": [
      "How does model Random Oversampling score:\n",
      "The accuracy of the model is: 0.724\n",
      "The precision of the model is: 0.672\n",
      "The recall of the model is: 0.951\n",
      "The f1-score of the model is: 0.788\n",
      "[[16 19]\n",
      " [ 2 39]]\n"
     ]
    },
    {
     "data": {
      "image/png": "[encoded data removed]",
      "text/plain": [
       "<Figure size 432x432 with 2 Axes>"
      ]
     },
     "metadata": {
      "needs_background": "light"
     },
     "output_type": "display_data"
    }
   ],
   "source": [
    "### Exact same code as before, but this time we are training the Random Forest on the undersampled  / down-sampled data using Near Miss\n",
    "rf.fit(X_train_ros, y_train_ros)\n",
    "ypred_ros = rf.predict(X_test)\n",
    "print_evaluations(y_test, ypred_ros, 'Random Oversampling')"
   ]
  },
  {
   "cell_type": "markdown",
   "metadata": {},
   "source": [
    "#### Synthetic Minority Over Sampling\n",
    "\n",
    "Random factor times the distance to the Nearest Neighbour is used to generate new data point."
   ]
  },
  {
   "cell_type": "code",
   "execution_count": 606,
   "metadata": {},
   "outputs": [
    {
     "name": "stderr",
     "output_type": "stream",
     "text": [
      "/opt/anaconda3/lib/python3.8/site-packages/imblearn/utils/_validation.py:299: UserWarning: After over-sampling, the number of samples (2500) in class 1 will be larger than the number of samples in the majority class (class #1 -> 124)\n",
      "  warnings.warn(\n"
     ]
    },
    {
     "name": "stdout",
     "output_type": "stream",
     "text": [
      "How does model SMOTE score:\n",
      "The accuracy of the model is: 0.724\n",
      "The precision of the model is: 0.667\n",
      "The recall of the model is: 0.976\n",
      "The f1-score of the model is: 0.792\n",
      "[[15 20]\n",
      " [ 1 40]]\n"
     ]
    },
    {
     "data": {
      "image/png": "[encoded data removed]",
      "text/plain": [
       "<Figure size 432x432 with 2 Axes>"
      ]
     },
     "metadata": {
      "needs_background": "light"
     },
     "output_type": "display_data"
    }
   ],
   "source": [
    "sm = SMOTE(sampling_strategy={1: 2500}, random_state=10)\n",
    "X_train_smote, y_train_smote = sm.fit_resample(X_train, y_train)\n",
    "\n",
    "rf.fit(X_train_smote, y_train_smote)\n",
    "ypred_smote = rf.predict(X_test)\n",
    "print_evaluations(y_test, ypred_smote, 'SMOTE')"
   ]
  },
  {
   "cell_type": "markdown",
   "metadata": {},
   "source": [
    "How to use this stuff in this week's project:\n",
    "- Still split your data into train/test!\n",
    "- Still need to vectorize your data, e.g. CountVectorizer + TfIdfTransformer\n",
    "- then you can apply any sampling technique you'd like in order to better balance the classes (this is part of feature engineering!)\n",
    "- then validate your results!"
   ]
  },
  {
   "cell_type": "markdown",
   "metadata": {},
   "source": [
    "Models you can try out this week:\n",
    "- Some probabilistic models (e.g. Naive Bayes) are SUPER SENSITIVE to class imbalance, although works well with many features.\n",
    "- Logistic Regression and RFs do pretty okay with imbalanced classes, but it still helps.\n",
    "\n",
    "Resampling / Balancing your classes most likely will not hurt! If anything, it will increase your model's performance."
   ]
  },
  {
   "cell_type": "code",
   "execution_count": null,
   "metadata": {},
   "outputs": [],
   "source": []
  },
  {
   "cell_type": "markdown",
   "metadata": {},
   "source": [
    "# ANN"
   ]
  },
  {
   "cell_type": "code",
   "execution_count": 607,
   "metadata": {},
   "outputs": [
    {
     "data": {
      "text/plain": [
       "sklearn.model_selection._split.KFold"
      ]
     },
     "execution_count": 607,
     "metadata": {},
     "output_type": "execute_result"
    }
   ],
   "source": [
    "from sklearn.preprocessing import StandardScaler\n",
    "from keras.models import Sequential\n",
    "from keras.layers import Activation, Dense\n",
    "from keras.utils.vis_utils import plot_model\n",
    "\n",
    "from tensorflow.keras import Model\n",
    "from sklearn.model_selection import train_test_split\n",
    "from keras import models    \n",
    "from tensorflow.keras.utils import plot_model\n",
    "\n",
    "\n",
    "#from keras.layers import Dense\n",
    "\n",
    "\n",
    "from tensorflow.keras.models import load_model\n",
    "\n",
    "from IPython.display import SVG\n",
    " \n",
    "from sklearn.model_selection import KFold \n",
    "KFold"
   ]
  },
  {
   "cell_type": "code",
   "execution_count": 608,
   "metadata": {},
   "outputs": [],
   "source": [
    "X = df.iloc[:,:-1] #all rows (:), and all columns EXCEPT for the last one\n",
    "# X = df[df.columns[df.columns != 'Class']] #Alternative\n",
    "\n",
    "y = df['output']"
   ]
  },
  {
   "cell_type": "code",
   "execution_count": 609,
   "metadata": {},
   "outputs": [],
   "source": [
    "from sklearn.model_selection import train_test_split\n",
    "X_train, X_test, y_train, y_test = train_test_split(X, y, test_size = 0.2, random_state = 0)"
   ]
  },
  {
   "cell_type": "code",
   "execution_count": 610,
   "metadata": {},
   "outputs": [],
   "source": [
    "\n",
    "\n",
    "sc = StandardScaler()\n",
    "X_train = sc.fit_transform(X_train)\n",
    "X_test = sc.transform(X_test)"
   ]
  },
  {
   "cell_type": "code",
   "execution_count": 611,
   "metadata": {},
   "outputs": [
    {
     "data": {
      "text/plain": [
       "array([[ 0.69617712, -0.92274852,  0.77251645, -1.36354075, -0.41803981,\n",
       "         0.90163913, -1.07375268,  1.40984195,  1.2900049 , -2.27916533,\n",
       "        -0.70710678,  1.14190596],\n",
       "       [ 0.69617712,  1.94013791,  2.23625729, -0.3703119 , -0.41803981,\n",
       "        -0.97936664,  0.22375805, -0.70929937, -0.38883987, -0.66169316,\n",
       "        -0.70710678,  1.14190596],\n",
       "       [ 0.69617712,  1.94013791,  2.23625729,  0.7728383 , -0.41803981,\n",
       "        -0.97936664,  0.39675948, -0.70929937, -0.72460883, -0.66169316,\n",
       "        -0.70710678,  1.14190596],\n",
       "       [ 0.69617712, -0.92274852, -0.39847623,  0.21063328, -0.41803981,\n",
       "        -0.97936664, -0.38174696,  1.40984195,  1.45788938, -0.66169316,\n",
       "         0.26516504,  1.14190596],\n",
       "       [ 0.69617712,  0.98584243, -0.10572806, -0.29535123, -0.41803981,\n",
       "         0.90163913, -0.16549517, -0.70929937,  0.61846699, -0.66169316,\n",
       "         2.20970869,  1.14190596],\n",
       "       [ 0.69617712, -0.92274852, -0.45702586,  0.51047596, -0.41803981,\n",
       "        -0.97936664,  0.69951198, -0.70929937, -0.47278211, -0.66169316,\n",
       "        -0.70710678,  1.14190596],\n",
       "       [ 0.69617712, -0.92274852, -1.27672073, -1.49472192, -0.41803981,\n",
       "        -0.97936664, -1.54950661,  1.40984195,  0.78635147, -0.66169316,\n",
       "        -0.70710678,  1.14190596],\n",
       "       [ 0.69617712, -0.92274852, -0.10572806,  0.13567261, -0.41803981,\n",
       "        -0.97936664, -0.12224481, -0.70929937,  0.28269804, -0.66169316,\n",
       "         0.26516504,  1.14190596],\n",
       "       [-1.43641607, -0.92274852,  3.9927463 ,  0.7728383 ,  2.39211668,\n",
       "        -0.97936664, -0.72774982,  1.40984195,  2.46519624, -2.27916533,\n",
       "         1.23743687,  1.14190596],\n",
       "       [ 0.69617712, -0.92274852, -0.10572806,  1.55992532,  2.39211668,\n",
       "        -0.97936664, -0.77100017,  1.40984195,  0.61846699,  0.95577901,\n",
       "         2.20970869,  1.14190596],\n",
       "       [ 0.69617712,  0.98584243,  1.06526461, -2.26306878,  2.39211668,\n",
       "         0.90163913,  1.00226448, -0.70929937, -0.72460883,  0.95577901,\n",
       "         0.26516504,  1.14190596],\n",
       "       [-1.43641607, -0.92274852, -0.10572806,  0.41677512, -0.41803981,\n",
       "         0.90163913,  0.56976091, -0.70929937, -0.89249331,  0.95577901,\n",
       "        -0.70710678, -0.46472917],\n",
       "       [ 0.69617712, -0.92274852,  0.18702011,  0.13567261, -0.41803981,\n",
       "        -0.97936664, -0.98725196, -0.70929937,  1.45788938, -0.66169316,\n",
       "         0.26516504,  1.14190596],\n",
       "       [ 0.69617712,  0.03154696, -0.10572806,  0.36055462, -0.41803981,\n",
       "         0.90163913,  0.91576377, -0.70929937, -0.38883987,  0.95577901,\n",
       "        -0.70710678, -0.46472917],\n",
       "       [-1.43641607,  0.98584243, -0.69122439, -0.52023323, -0.41803981,\n",
       "         0.90163913,  0.35350912, -0.70929937,  0.45058251, -0.66169316,\n",
       "        -0.70710678, -0.46472917],\n",
       "       [ 0.69617712,  0.98584243, -1.86221707, -0.46401273, -0.41803981,\n",
       "         0.90163913, -0.29524624,  1.40984195,  0.11481356, -0.66169316,\n",
       "        -0.70710678, -0.46472917],\n",
       "       [ 0.69617712, -0.92274852, -1.39382   , -0.25787089,  2.39211668,\n",
       "         0.90163913, -0.12224481, -0.70929937, -0.80855107,  0.95577901,\n",
       "         2.20970869,  1.14190596],\n",
       "       [ 0.69617712,  0.98584243, -0.45702586,  0.15441278,  2.39211668,\n",
       "         0.90163913,  1.0887652 , -0.70929937, -0.89249331,  0.95577901,\n",
       "         1.23743687, -0.46472917],\n",
       "       [ 0.69617712, -0.92274852, -0.69122439,  0.37929479, -0.41803981,\n",
       "         0.90163913, -2.19826197,  1.40984195,  0.61846699, -0.66169316,\n",
       "         1.23743687,  1.14190596],\n",
       "       [ 0.69617712,  0.98584243, -0.69122439, -0.12668972,  2.39211668,\n",
       "         0.90163913,  1.91052199, -0.70929937, -0.2209554 , -2.27916533,\n",
       "        -0.70710678,  1.14190596],\n",
       "       [ 0.69617712, -0.92274852,  0.47976828, -0.38905206, -0.41803981,\n",
       "         0.90163913,  1.21851627, -0.70929937, -0.89249331,  0.95577901,\n",
       "        -0.70710678, -0.46472917],\n",
       "       [ 0.69617712, -0.92274852, -0.80832366, -0.52023323, -0.41803981,\n",
       "         0.90163913, -0.42499731, -0.70929937,  0.11481356, -0.66169316,\n",
       "        -0.70710678,  1.14190596],\n",
       "       [ 0.69617712,  0.03154696, -0.69122439,  0.64165713, -0.41803981,\n",
       "        -0.97936664, -2.02526054, -0.70929937,  0.28269804, -0.66169316,\n",
       "         0.26516504,  1.14190596],\n",
       "       [ 0.69617712, -0.92274852, -1.27672073, -0.76385541, -0.41803981,\n",
       "        -0.97936664, -1.80900875,  1.40984195, -0.89249331, -0.66169316,\n",
       "         0.26516504, -0.46472917],\n",
       "       [ 0.69617712,  0.03154696, -1.27672073, -0.22039056, -0.41803981,\n",
       "         0.90163913,  0.13725733, -0.70929937, -0.89249331,  0.95577901,\n",
       "        -0.70710678, -0.46472917],\n",
       "       [-1.43641607,  0.98584243, -0.10572806,  0.30433412, -0.41803981,\n",
       "         0.90163913, -2.28476268, -0.70929937,  0.11481356, -0.66169316,\n",
       "         0.26516504,  1.14190596],\n",
       "       [ 0.69617712, -0.92274852, -0.39847623, -0.6514144 , -0.41803981,\n",
       "         0.90163913,  0.78601269, -0.70929937, -0.05307092,  0.95577901,\n",
       "         1.23743687,  1.14190596],\n",
       "       [ 0.69617712, -0.92274852, -0.69122439,  0.04197178, -0.41803981,\n",
       "        -0.97936664, -0.25199588, -0.70929937, -0.2209554 ,  0.95577901,\n",
       "        -0.70710678,  1.14190596],\n",
       "       [-1.43641607,  0.98584243,  0.36266901, -0.50149307, -0.41803981,\n",
       "         0.90163913,  0.09400698, -0.70929937, -0.89249331, -0.66169316,\n",
       "        -0.70710678, -0.46472917],\n",
       "       [ 0.69617712,  0.03154696,  0.12847048, -0.85755624, -0.41803981,\n",
       "         0.90163913,  0.35350912, -0.70929937, -0.2209554 ,  0.95577901,\n",
       "         0.26516504, -0.46472917],\n",
       "       [ 0.69617712,  0.98584243,  0.47976828, -1.15739892, -0.41803981,\n",
       "        -0.97936664,  0.22375805, -0.70929937,  1.62577385, -0.66169316,\n",
       "        -0.70710678, -0.46472917],\n",
       "       [ 0.69617712, -0.92274852,  0.59686755,  1.16638181, -0.41803981,\n",
       "        -0.97936664, -0.12224481,  1.40984195, -0.89249331, -0.66169316,\n",
       "         2.20970869,  1.14190596],\n",
       "       [-1.43641607,  0.03154696, -0.33992659,  1.11016131, -0.41803981,\n",
       "         0.90163913,  0.56976091, -0.70929937, -0.89249331,  0.95577901,\n",
       "        -0.70710678, -0.46472917],\n",
       "       [ 0.69617712,  0.98584243,  2.35335655, -0.89503658,  2.39211668,\n",
       "         0.90163913,  0.52651055, -0.70929937, -0.47278211,  0.95577901,\n",
       "        -0.70710678,  1.14190596],\n",
       "       [ 0.69617712,  0.03154696, -0.57412513, -1.02621775, -0.41803981,\n",
       "         0.90163913,  1.04551484, -0.70929937, -0.89249331,  0.95577901,\n",
       "        -0.70710678, -0.46472917],\n",
       "       [-1.43641607, -0.92274852,  2.47045582,  0.04197178, -0.41803981,\n",
       "         0.90163913, -0.29524624,  1.40984195, -0.89249331, -0.66169316,\n",
       "        -0.70710678, -0.46472917],\n",
       "       [ 0.69617712,  0.98584243,  1.65076095,  0.41677512, -0.41803981,\n",
       "         0.90163913, -1.63600732,  1.40984195,  1.54183161, -0.66169316,\n",
       "         0.26516504,  1.14190596],\n",
       "       [ 0.69617712,  0.03154696, -0.22282732,  1.14764164, -0.41803981,\n",
       "        -0.97936664,  0.87251341, -0.70929937, -0.89249331,  0.95577901,\n",
       "        -0.70710678, -0.46472917],\n",
       "       [ 0.69617712, -0.92274852, -0.39847623,  0.04197178,  2.39211668,\n",
       "        -0.97936664, -0.25199588,  1.40984195,  0.11481356, -0.66169316,\n",
       "         0.26516504, -0.46472917],\n",
       "       [-1.43641607, -0.92274852,  0.47976828,  0.39803495, -0.41803981,\n",
       "        -0.97936664,  0.44000983, -0.70929937,  2.12942728, -2.27916533,\n",
       "         1.23743687, -0.46472917],\n",
       "       [ 0.69617712, -0.92274852,  0.47976828, -1.02621775, -0.41803981,\n",
       "         0.90163913, -0.07899445, -0.70929937, -0.55672435, -0.66169316,\n",
       "        -0.70710678, -2.0713643 ],\n",
       "       [-1.43641607, -0.92274852, -0.22282732,  1.0539408 , -0.41803981,\n",
       "        -0.97936664,  0.39675948, -0.70929937, -0.89249331,  0.95577901,\n",
       "         0.26516504, -0.46472917],\n",
       "       [ 0.69617712,  0.98584243,  0.36266901, -0.44527257, -0.41803981,\n",
       "         0.90163913,  0.82926305, -0.70929937, -0.89249331,  0.95577901,\n",
       "         3.18198052, -0.46472917],\n",
       "       [ 0.69617712, -0.92274852, -1.27672073,  0.52921612, -0.41803981,\n",
       "        -0.97936664, -1.37650518,  1.40984195, -0.05307092, -0.66169316,\n",
       "         0.26516504, -0.46472917],\n",
       "       [ 0.69617712,  1.94013791, -0.39847623, -0.63267424, -0.41803981,\n",
       "        -0.97936664, -1.07375268,  1.40984195,  0.28269804,  0.95577901,\n",
       "         0.26516504, -0.46472917],\n",
       "       [ 0.69617712,  0.03154696,  1.41656242, -0.03298889, -0.41803981,\n",
       "        -0.97936664, -0.29524624, -0.70929937, -0.89249331,  0.95577901,\n",
       "        -0.70710678, -0.46472917],\n",
       "       [ 0.69617712,  0.98584243, -0.10572806, -0.61393407, -0.41803981,\n",
       "        -0.97936664,  0.78601269, -0.70929937,  0.78635147, -0.66169316,\n",
       "        -0.70710678, -0.46472917],\n",
       "       [ 0.69617712,  0.98584243,  0.47976828, -0.25787089, -0.41803981,\n",
       "         0.90163913,  0.56976091, -0.70929937, -0.38883987, -0.66169316,\n",
       "         0.26516504,  1.14190596],\n",
       "       [-1.43641607, -0.92274852,  0.12847048,  3.04039852, -0.41803981,\n",
       "        -0.97936664,  0.00750626,  1.40984195,  0.70240923, -0.66169316,\n",
       "         1.23743687,  1.14190596],\n",
       "       [ 0.69617712,  0.03154696, -0.69122439,  0.30433412, -0.41803981,\n",
       "         0.90163913,  1.00226448, -0.70929937, -0.89249331,  0.95577901,\n",
       "        -0.70710678,  1.14190596],\n",
       "       [ 0.69617712,  0.03154696, -0.69122439,  1.46622448, -0.41803981,\n",
       "         0.90163913,  0.95901412, -0.70929937, -0.72460883,  0.95577901,\n",
       "        -0.70710678, -0.46472917],\n",
       "       [-1.43641607,  0.03154696, -0.69122439,  0.41677512, -0.41803981,\n",
       "        -0.97936664, -1.24675411,  1.40984195, -0.72460883,  0.95577901,\n",
       "         0.26516504, -0.46472917],\n",
       "       [-1.43641607,  0.98584243, -1.15962146,  0.39803495, -0.41803981,\n",
       "        -0.97936664,  0.95901412,  1.40984195, -0.89249331,  0.95577901,\n",
       "        -0.70710678, -0.46472917],\n",
       "       [ 0.69617712,  0.03154696,  0.18702011, -0.82007591, -0.41803981,\n",
       "         0.90163913, -0.77100017, -0.70929937, -0.89249331, -0.66169316,\n",
       "        -0.70710678, -2.0713643 ],\n",
       "       [-1.43641607,  0.98584243, -2.21351487, -0.89503658, -0.41803981,\n",
       "         0.90163913,  1.26176663, -0.70929937, -0.89249331,  0.95577901,\n",
       "        -0.70710678, -0.46472917],\n",
       "       [ 0.69617712, -0.92274852, -0.69122439, -0.91377674, -0.41803981,\n",
       "         0.90163913, -0.85750089,  1.40984195,  0.45058251, -0.66169316,\n",
       "        -0.70710678,  1.14190596],\n",
       "       [-1.43641607,  0.98584243, -0.80832366, -0.08920939, -0.41803981,\n",
       "         0.90163913, -0.0357441 , -0.70929937, -0.64066659, -0.66169316,\n",
       "         0.26516504, -0.46472917],\n",
       "       [-1.43641607,  0.03154696, -0.10572806, -0.20165039, -0.41803981,\n",
       "        -0.97936664,  1.04551484, -0.70929937, -0.89249331, -0.66169316,\n",
       "         0.26516504, -0.46472917],\n",
       "       [ 0.69617712,  0.98584243,  1.06526461, -0.6514144 ,  2.39211668,\n",
       "         0.90163913,  0.31025876, -0.70929937,  0.45058251,  0.95577901,\n",
       "        -0.70710678, -0.46472917],\n",
       "       [-1.43641607,  0.03154696, -0.69122439, -0.05172906, -0.41803981,\n",
       "         0.90163913,  0.52651055, -0.70929937,  0.03087132,  0.95577901,\n",
       "        -0.70710678, -0.46472917],\n",
       "       [-1.43641607, -0.92274852, -1.86221707,  0.02323161, -0.41803981,\n",
       "        -0.97936664, -1.20350375, -0.70929937, -0.05307092, -0.66169316,\n",
       "        -0.70710678, -0.46472917]])"
      ]
     },
     "execution_count": 611,
     "metadata": {},
     "output_type": "execute_result"
    }
   ],
   "source": [
    "X_test"
   ]
  },
  {
   "cell_type": "code",
   "execution_count": null,
   "metadata": {},
   "outputs": [],
   "source": []
  },
  {
   "cell_type": "code",
   "execution_count": 612,
   "metadata": {},
   "outputs": [
    {
     "data": {
      "text/plain": [
       "(((242, 12), (242,)), ((61, 12), (61,)))"
      ]
     },
     "execution_count": 612,
     "metadata": {},
     "output_type": "execute_result"
    }
   ],
   "source": [
    "(X_train.shape, y_train.shape), (X_test.shape, y_test.shape)"
   ]
  },
  {
   "cell_type": "markdown",
   "metadata": {},
   "source": [
    "# Import Keras"
   ]
  },
  {
   "cell_type": "code",
   "execution_count": 613,
   "metadata": {},
   "outputs": [],
   "source": [
    "#pip install keras\n"
   ]
  },
  {
   "cell_type": "code",
   "execution_count": 614,
   "metadata": {},
   "outputs": [],
   "source": [
    "classifier = Sequential()\n",
    "classifier.add(Dense(activation = \"elu\", input_dim = 12, \n",
    "                     units = 8, kernel_initializer = \"uniform\"))\n",
    "classifier.add(Dense(activation = \"elu\", units = 13, \n",
    "                     kernel_initializer = \"uniform\"))\n",
    "classifier.add(Dense(activation = \"sigmoid\", units = 1, \n",
    "                     kernel_initializer = \"uniform\"))\n",
    "classifier.compile(optimizer = 'adam' , loss = 'binary_crossentropy', \n",
    "                   metrics = ['accuracy'] )"
   ]
  },
  {
   "cell_type": "code",
   "execution_count": 615,
   "metadata": {},
   "outputs": [
    {
     "name": "stdout",
     "output_type": "stream",
     "text": [
      "Epoch 1/200\n",
      "20/20 [==============================] - 11s 30ms/step - loss: 0.6924 - accuracy: 0.6399 - val_loss: 0.6907 - val_accuracy: 0.5510\n",
      "Epoch 2/200\n",
      "20/20 [==============================] - 0s 2ms/step - loss: 0.6883 - accuracy: 0.6263 - val_loss: 0.6781 - val_accuracy: 0.7551\n",
      "Epoch 3/200\n",
      "20/20 [==============================] - 0s 2ms/step - loss: 0.6717 - accuracy: 0.7844 - val_loss: 0.6391 - val_accuracy: 0.8367\n",
      "Epoch 4/200\n",
      "20/20 [==============================] - 0s 2ms/step - loss: 0.6299 - accuracy: 0.8168 - val_loss: 0.5666 - val_accuracy: 0.8367\n",
      "Epoch 5/200\n",
      "20/20 [==============================] - 0s 2ms/step - loss: 0.5543 - accuracy: 0.8329 - val_loss: 0.4825 - val_accuracy: 0.8367\n",
      "Epoch 6/200\n",
      "20/20 [==============================] - 0s 2ms/step - loss: 0.4777 - accuracy: 0.8201 - val_loss: 0.4204 - val_accuracy: 0.8367\n",
      "Epoch 7/200\n",
      "20/20 [==============================] - 0s 3ms/step - loss: 0.4173 - accuracy: 0.8509 - val_loss: 0.3824 - val_accuracy: 0.8367\n",
      "Epoch 8/200\n",
      "20/20 [==============================] - 0s 2ms/step - loss: 0.4476 - accuracy: 0.7829 - val_loss: 0.3662 - val_accuracy: 0.8367\n",
      "Epoch 9/200\n",
      "20/20 [==============================] - 0s 2ms/step - loss: 0.3958 - accuracy: 0.8371 - val_loss: 0.3547 - val_accuracy: 0.8571\n",
      "Epoch 10/200\n",
      "20/20 [==============================] - 0s 2ms/step - loss: 0.3984 - accuracy: 0.8031 - val_loss: 0.3500 - val_accuracy: 0.8571\n",
      "Epoch 11/200\n",
      "20/20 [==============================] - 0s 2ms/step - loss: 0.3526 - accuracy: 0.8541 - val_loss: 0.3444 - val_accuracy: 0.8571\n",
      "Epoch 12/200\n",
      "20/20 [==============================] - 0s 2ms/step - loss: 0.3298 - accuracy: 0.8508 - val_loss: 0.3426 - val_accuracy: 0.8571\n",
      "Epoch 13/200\n",
      "20/20 [==============================] - 0s 3ms/step - loss: 0.3852 - accuracy: 0.8237 - val_loss: 0.3408 - val_accuracy: 0.8367\n",
      "Epoch 14/200\n",
      "20/20 [==============================] - 0s 3ms/step - loss: 0.3975 - accuracy: 0.8209 - val_loss: 0.3376 - val_accuracy: 0.8367\n",
      "Epoch 15/200\n",
      "20/20 [==============================] - 0s 2ms/step - loss: 0.3723 - accuracy: 0.8295 - val_loss: 0.3380 - val_accuracy: 0.8163\n",
      "Epoch 16/200\n",
      "20/20 [==============================] - 0s 2ms/step - loss: 0.3297 - accuracy: 0.8757 - val_loss: 0.3391 - val_accuracy: 0.8163\n",
      "Epoch 17/200\n",
      "20/20 [==============================] - 0s 2ms/step - loss: 0.3808 - accuracy: 0.8399 - val_loss: 0.3372 - val_accuracy: 0.8163\n",
      "Epoch 18/200\n",
      "20/20 [==============================] - 0s 2ms/step - loss: 0.3490 - accuracy: 0.8445 - val_loss: 0.3365 - val_accuracy: 0.8367\n",
      "Epoch 19/200\n",
      "20/20 [==============================] - 0s 2ms/step - loss: 0.3668 - accuracy: 0.8309 - val_loss: 0.3366 - val_accuracy: 0.8163\n",
      "Epoch 20/200\n",
      "20/20 [==============================] - 0s 2ms/step - loss: 0.3605 - accuracy: 0.8520 - val_loss: 0.3374 - val_accuracy: 0.8367\n",
      "Epoch 21/200\n",
      "20/20 [==============================] - 0s 2ms/step - loss: 0.3869 - accuracy: 0.8444 - val_loss: 0.3368 - val_accuracy: 0.8163\n",
      "Epoch 22/200\n",
      "20/20 [==============================] - 0s 2ms/step - loss: 0.3590 - accuracy: 0.8388 - val_loss: 0.3361 - val_accuracy: 0.8163\n",
      "Epoch 23/200\n",
      "20/20 [==============================] - 0s 2ms/step - loss: 0.3659 - accuracy: 0.8403 - val_loss: 0.3365 - val_accuracy: 0.8163\n",
      "Epoch 24/200\n",
      "20/20 [==============================] - 0s 2ms/step - loss: 0.3325 - accuracy: 0.8660 - val_loss: 0.3358 - val_accuracy: 0.8163\n",
      "Epoch 25/200\n",
      "20/20 [==============================] - 0s 2ms/step - loss: 0.3377 - accuracy: 0.8606 - val_loss: 0.3350 - val_accuracy: 0.8163\n",
      "Epoch 26/200\n",
      "20/20 [==============================] - 0s 2ms/step - loss: 0.3929 - accuracy: 0.8328 - val_loss: 0.3352 - val_accuracy: 0.8163\n",
      "Epoch 27/200\n",
      "20/20 [==============================] - 0s 2ms/step - loss: 0.3182 - accuracy: 0.8704 - val_loss: 0.3358 - val_accuracy: 0.8163\n",
      "Epoch 28/200\n",
      "20/20 [==============================] - 0s 2ms/step - loss: 0.3740 - accuracy: 0.8334 - val_loss: 0.3388 - val_accuracy: 0.8163\n",
      "Epoch 29/200\n",
      "20/20 [==============================] - 0s 2ms/step - loss: 0.4154 - accuracy: 0.8161 - val_loss: 0.3399 - val_accuracy: 0.8163\n",
      "Epoch 30/200\n",
      "20/20 [==============================] - 0s 3ms/step - loss: 0.3980 - accuracy: 0.8227 - val_loss: 0.3391 - val_accuracy: 0.8163\n",
      "Epoch 31/200\n",
      "20/20 [==============================] - 0s 3ms/step - loss: 0.4122 - accuracy: 0.8036 - val_loss: 0.3405 - val_accuracy: 0.8163\n",
      "Epoch 32/200\n",
      "20/20 [==============================] - 0s 3ms/step - loss: 0.3630 - accuracy: 0.8469 - val_loss: 0.3395 - val_accuracy: 0.8163\n",
      "Epoch 33/200\n",
      "20/20 [==============================] - 0s 3ms/step - loss: 0.3442 - accuracy: 0.8642 - val_loss: 0.3390 - val_accuracy: 0.8163\n",
      "Epoch 34/200\n",
      "20/20 [==============================] - 0s 3ms/step - loss: 0.3925 - accuracy: 0.8015 - val_loss: 0.3398 - val_accuracy: 0.8163\n",
      "Epoch 35/200\n",
      "20/20 [==============================] - 0s 3ms/step - loss: 0.3948 - accuracy: 0.8321 - val_loss: 0.3384 - val_accuracy: 0.8163\n",
      "Epoch 36/200\n",
      "20/20 [==============================] - 0s 2ms/step - loss: 0.3570 - accuracy: 0.8446 - val_loss: 0.3367 - val_accuracy: 0.8367\n",
      "Epoch 37/200\n",
      "20/20 [==============================] - 0s 3ms/step - loss: 0.4324 - accuracy: 0.8078 - val_loss: 0.3384 - val_accuracy: 0.8367\n",
      "Epoch 38/200\n",
      "20/20 [==============================] - 0s 3ms/step - loss: 0.3427 - accuracy: 0.8484 - val_loss: 0.3378 - val_accuracy: 0.8367\n",
      "Epoch 39/200\n",
      "20/20 [==============================] - 0s 2ms/step - loss: 0.3980 - accuracy: 0.8424 - val_loss: 0.3386 - val_accuracy: 0.8367\n",
      "Epoch 40/200\n",
      "20/20 [==============================] - 0s 2ms/step - loss: 0.3557 - accuracy: 0.8496 - val_loss: 0.3376 - val_accuracy: 0.8367\n",
      "Epoch 41/200\n",
      "20/20 [==============================] - 0s 2ms/step - loss: 0.3691 - accuracy: 0.8515 - val_loss: 0.3376 - val_accuracy: 0.8367\n",
      "Epoch 42/200\n",
      "20/20 [==============================] - 0s 3ms/step - loss: 0.3633 - accuracy: 0.8509 - val_loss: 0.3402 - val_accuracy: 0.8367\n",
      "Epoch 43/200\n",
      "20/20 [==============================] - ETA: 0s - loss: 0.3586 - accuracy: 0.90 - 0s 3ms/step - loss: 0.3898 - accuracy: 0.8392 - val_loss: 0.3384 - val_accuracy: 0.8367\n",
      "Epoch 44/200\n",
      "20/20 [==============================] - 0s 2ms/step - loss: 0.3349 - accuracy: 0.8766 - val_loss: 0.3384 - val_accuracy: 0.8367\n",
      "Epoch 45/200\n",
      "20/20 [==============================] - 0s 3ms/step - loss: 0.3279 - accuracy: 0.8704 - val_loss: 0.3403 - val_accuracy: 0.8367\n",
      "Epoch 46/200\n",
      "20/20 [==============================] - 0s 2ms/step - loss: 0.3656 - accuracy: 0.8664 - val_loss: 0.3390 - val_accuracy: 0.8367\n",
      "Epoch 47/200\n",
      "20/20 [==============================] - 0s 3ms/step - loss: 0.3479 - accuracy: 0.8394 - val_loss: 0.3395 - val_accuracy: 0.8367\n",
      "Epoch 48/200\n",
      "20/20 [==============================] - 0s 2ms/step - loss: 0.3555 - accuracy: 0.8274 - val_loss: 0.3413 - val_accuracy: 0.8367\n",
      "Epoch 49/200\n",
      "20/20 [==============================] - 0s 2ms/step - loss: 0.3820 - accuracy: 0.8159 - val_loss: 0.3429 - val_accuracy: 0.8367\n",
      "Epoch 50/200\n",
      "20/20 [==============================] - 0s 2ms/step - loss: 0.3413 - accuracy: 0.8564 - val_loss: 0.3426 - val_accuracy: 0.8367\n",
      "Epoch 51/200\n",
      "20/20 [==============================] - 0s 2ms/step - loss: 0.3431 - accuracy: 0.8632 - val_loss: 0.3416 - val_accuracy: 0.8367\n",
      "Epoch 52/200\n",
      "20/20 [==============================] - 0s 2ms/step - loss: 0.3430 - accuracy: 0.8643 - val_loss: 0.3414 - val_accuracy: 0.8367\n",
      "Epoch 53/200\n",
      "20/20 [==============================] - 0s 2ms/step - loss: 0.3169 - accuracy: 0.8729 - val_loss: 0.3396 - val_accuracy: 0.8367\n",
      "Epoch 54/200\n",
      "20/20 [==============================] - 0s 2ms/step - loss: 0.3350 - accuracy: 0.8565 - val_loss: 0.3395 - val_accuracy: 0.8367\n",
      "Epoch 55/200\n",
      "20/20 [==============================] - 0s 3ms/step - loss: 0.3748 - accuracy: 0.8472 - val_loss: 0.3395 - val_accuracy: 0.8367\n",
      "Epoch 56/200\n",
      "20/20 [==============================] - 0s 3ms/step - loss: 0.3029 - accuracy: 0.8827 - val_loss: 0.3398 - val_accuracy: 0.8367\n",
      "Epoch 57/200\n",
      "20/20 [==============================] - 0s 3ms/step - loss: 0.3593 - accuracy: 0.8504 - val_loss: 0.3396 - val_accuracy: 0.8367\n",
      "Epoch 58/200\n",
      "20/20 [==============================] - 0s 2ms/step - loss: 0.3815 - accuracy: 0.8288 - val_loss: 0.3388 - val_accuracy: 0.8367\n",
      "Epoch 59/200\n",
      "20/20 [==============================] - 0s 2ms/step - loss: 0.3926 - accuracy: 0.8207 - val_loss: 0.3385 - val_accuracy: 0.8367\n",
      "Epoch 60/200\n",
      "20/20 [==============================] - 0s 2ms/step - loss: 0.3468 - accuracy: 0.8471 - val_loss: 0.3388 - val_accuracy: 0.8367\n",
      "Epoch 61/200\n",
      "20/20 [==============================] - 0s 3ms/step - loss: 0.3452 - accuracy: 0.8554 - val_loss: 0.3394 - val_accuracy: 0.8367\n",
      "Epoch 62/200\n",
      "20/20 [==============================] - 0s 3ms/step - loss: 0.3556 - accuracy: 0.8356 - val_loss: 0.3375 - val_accuracy: 0.8367\n",
      "Epoch 63/200\n",
      "20/20 [==============================] - 0s 2ms/step - loss: 0.3590 - accuracy: 0.8450 - val_loss: 0.3374 - val_accuracy: 0.8367\n",
      "Epoch 64/200\n",
      "20/20 [==============================] - 0s 2ms/step - loss: 0.3410 - accuracy: 0.8598 - val_loss: 0.3382 - val_accuracy: 0.8367\n",
      "Epoch 65/200\n",
      "20/20 [==============================] - 0s 2ms/step - loss: 0.3684 - accuracy: 0.8549 - val_loss: 0.3378 - val_accuracy: 0.8367\n",
      "Epoch 66/200\n",
      "20/20 [==============================] - 0s 2ms/step - loss: 0.3942 - accuracy: 0.8158 - val_loss: 0.3387 - val_accuracy: 0.8367\n",
      "Epoch 67/200\n",
      "20/20 [==============================] - 0s 2ms/step - loss: 0.3482 - accuracy: 0.8332 - val_loss: 0.3387 - val_accuracy: 0.8367\n",
      "Epoch 68/200\n",
      "20/20 [==============================] - 0s 2ms/step - loss: 0.3899 - accuracy: 0.8347 - val_loss: 0.3367 - val_accuracy: 0.8367\n",
      "Epoch 69/200\n",
      "20/20 [==============================] - 0s 2ms/step - loss: 0.3911 - accuracy: 0.8459 - val_loss: 0.3383 - val_accuracy: 0.8367\n",
      "Epoch 70/200\n",
      "20/20 [==============================] - 0s 2ms/step - loss: 0.2925 - accuracy: 0.8726 - val_loss: 0.3378 - val_accuracy: 0.8367\n",
      "Epoch 71/200\n",
      "20/20 [==============================] - 0s 3ms/step - loss: 0.3629 - accuracy: 0.8360 - val_loss: 0.3368 - val_accuracy: 0.8367\n",
      "Epoch 72/200\n",
      "20/20 [==============================] - 0s 3ms/step - loss: 0.3268 - accuracy: 0.8605 - val_loss: 0.3379 - val_accuracy: 0.8367\n",
      "Epoch 73/200\n",
      "20/20 [==============================] - 0s 3ms/step - loss: 0.3685 - accuracy: 0.8311 - val_loss: 0.3346 - val_accuracy: 0.8367\n",
      "Epoch 74/200\n",
      "20/20 [==============================] - 0s 2ms/step - loss: 0.3134 - accuracy: 0.8710 - val_loss: 0.3334 - val_accuracy: 0.8367\n",
      "Epoch 75/200\n",
      "20/20 [==============================] - 0s 2ms/step - loss: 0.3344 - accuracy: 0.8677 - val_loss: 0.3335 - val_accuracy: 0.8367\n",
      "Epoch 76/200\n",
      "20/20 [==============================] - 0s 2ms/step - loss: 0.2760 - accuracy: 0.8905 - val_loss: 0.3340 - val_accuracy: 0.8367\n",
      "Epoch 77/200\n",
      "20/20 [==============================] - 0s 2ms/step - loss: 0.3238 - accuracy: 0.8563 - val_loss: 0.3312 - val_accuracy: 0.8367\n",
      "Epoch 78/200\n",
      "20/20 [==============================] - 0s 2ms/step - loss: 0.2972 - accuracy: 0.8881 - val_loss: 0.3320 - val_accuracy: 0.8367\n",
      "Epoch 79/200\n",
      "20/20 [==============================] - 0s 2ms/step - loss: 0.4003 - accuracy: 0.8068 - val_loss: 0.3323 - val_accuracy: 0.8367\n",
      "Epoch 80/200\n",
      "20/20 [==============================] - 0s 2ms/step - loss: 0.3966 - accuracy: 0.8303 - val_loss: 0.3312 - val_accuracy: 0.8367\n",
      "Epoch 81/200\n",
      "20/20 [==============================] - 0s 2ms/step - loss: 0.3342 - accuracy: 0.8580 - val_loss: 0.3319 - val_accuracy: 0.8367\n",
      "Epoch 82/200\n",
      "20/20 [==============================] - 0s 2ms/step - loss: 0.3530 - accuracy: 0.8481 - val_loss: 0.3316 - val_accuracy: 0.8367\n",
      "Epoch 83/200\n",
      "20/20 [==============================] - 0s 2ms/step - loss: 0.3352 - accuracy: 0.8516 - val_loss: 0.3320 - val_accuracy: 0.8367\n",
      "Epoch 84/200\n",
      "20/20 [==============================] - 0s 2ms/step - loss: 0.3575 - accuracy: 0.8466 - val_loss: 0.3327 - val_accuracy: 0.8367\n",
      "Epoch 85/200\n",
      "20/20 [==============================] - 0s 2ms/step - loss: 0.3121 - accuracy: 0.8629 - val_loss: 0.3328 - val_accuracy: 0.8367\n",
      "Epoch 86/200\n",
      "20/20 [==============================] - 0s 2ms/step - loss: 0.2971 - accuracy: 0.8804 - val_loss: 0.3345 - val_accuracy: 0.8367\n",
      "Epoch 87/200\n",
      "20/20 [==============================] - 0s 2ms/step - loss: 0.3390 - accuracy: 0.8409 - val_loss: 0.3349 - val_accuracy: 0.8367\n",
      "Epoch 88/200\n",
      "20/20 [==============================] - 0s 2ms/step - loss: 0.3427 - accuracy: 0.8406 - val_loss: 0.3354 - val_accuracy: 0.8367\n",
      "Epoch 89/200\n",
      "20/20 [==============================] - 0s 2ms/step - loss: 0.3799 - accuracy: 0.8337 - val_loss: 0.3350 - val_accuracy: 0.8367\n",
      "Epoch 90/200\n",
      "20/20 [==============================] - 0s 2ms/step - loss: 0.3611 - accuracy: 0.8509 - val_loss: 0.3345 - val_accuracy: 0.8367\n",
      "Epoch 91/200\n",
      "20/20 [==============================] - 0s 2ms/step - loss: 0.3680 - accuracy: 0.8324 - val_loss: 0.3311 - val_accuracy: 0.8367\n",
      "Epoch 92/200\n",
      "20/20 [==============================] - 0s 2ms/step - loss: 0.3260 - accuracy: 0.8617 - val_loss: 0.3319 - val_accuracy: 0.8367\n",
      "Epoch 93/200\n",
      "20/20 [==============================] - 0s 2ms/step - loss: 0.3699 - accuracy: 0.8406 - val_loss: 0.3313 - val_accuracy: 0.8367\n",
      "Epoch 94/200\n",
      "20/20 [==============================] - 0s 2ms/step - loss: 0.3130 - accuracy: 0.8817 - val_loss: 0.3309 - val_accuracy: 0.8367\n",
      "Epoch 95/200\n",
      "20/20 [==============================] - 0s 2ms/step - loss: 0.3583 - accuracy: 0.8356 - val_loss: 0.3296 - val_accuracy: 0.8367\n",
      "Epoch 96/200\n",
      "20/20 [==============================] - 0s 2ms/step - loss: 0.4005 - accuracy: 0.7983 - val_loss: 0.3289 - val_accuracy: 0.8367\n",
      "Epoch 97/200\n",
      "20/20 [==============================] - 0s 2ms/step - loss: 0.3330 - accuracy: 0.8519 - val_loss: 0.3280 - val_accuracy: 0.8367\n",
      "Epoch 98/200\n",
      "20/20 [==============================] - 0s 2ms/step - loss: 0.4123 - accuracy: 0.8034 - val_loss: 0.3297 - val_accuracy: 0.8367\n",
      "Epoch 99/200\n",
      "20/20 [==============================] - 0s 2ms/step - loss: 0.3874 - accuracy: 0.8414 - val_loss: 0.3279 - val_accuracy: 0.8367\n",
      "Epoch 100/200\n",
      "20/20 [==============================] - 0s 2ms/step - loss: 0.3666 - accuracy: 0.8582 - val_loss: 0.3296 - val_accuracy: 0.8367\n",
      "Epoch 101/200\n",
      "20/20 [==============================] - 0s 2ms/step - loss: 0.3479 - accuracy: 0.8556 - val_loss: 0.3288 - val_accuracy: 0.8367\n",
      "Epoch 102/200\n",
      "20/20 [==============================] - 0s 2ms/step - loss: 0.3684 - accuracy: 0.8431 - val_loss: 0.3304 - val_accuracy: 0.8367\n",
      "Epoch 103/200\n",
      "20/20 [==============================] - 0s 2ms/step - loss: 0.3440 - accuracy: 0.8347 - val_loss: 0.3308 - val_accuracy: 0.8367\n",
      "Epoch 104/200\n",
      "20/20 [==============================] - 0s 2ms/step - loss: 0.3692 - accuracy: 0.8417 - val_loss: 0.3305 - val_accuracy: 0.8367\n",
      "Epoch 105/200\n",
      "20/20 [==============================] - 0s 2ms/step - loss: 0.3580 - accuracy: 0.8461 - val_loss: 0.3294 - val_accuracy: 0.8367\n",
      "Epoch 106/200\n",
      "20/20 [==============================] - 0s 2ms/step - loss: 0.3848 - accuracy: 0.8130 - val_loss: 0.3301 - val_accuracy: 0.8367\n",
      "Epoch 107/200\n",
      "20/20 [==============================] - 0s 2ms/step - loss: 0.3061 - accuracy: 0.8805 - val_loss: 0.3303 - val_accuracy: 0.8367\n",
      "Epoch 108/200\n",
      "20/20 [==============================] - 0s 2ms/step - loss: 0.3503 - accuracy: 0.8303 - val_loss: 0.3304 - val_accuracy: 0.8367\n",
      "Epoch 109/200\n",
      "20/20 [==============================] - 0s 2ms/step - loss: 0.3473 - accuracy: 0.8602 - val_loss: 0.3330 - val_accuracy: 0.8367\n",
      "Epoch 110/200\n",
      "20/20 [==============================] - 0s 2ms/step - loss: 0.3120 - accuracy: 0.8712 - val_loss: 0.3328 - val_accuracy: 0.8367\n",
      "Epoch 111/200\n",
      "20/20 [==============================] - 0s 2ms/step - loss: 0.3257 - accuracy: 0.8467 - val_loss: 0.3328 - val_accuracy: 0.8367\n",
      "Epoch 112/200\n",
      "20/20 [==============================] - 0s 2ms/step - loss: 0.3485 - accuracy: 0.8359 - val_loss: 0.3312 - val_accuracy: 0.8367\n",
      "Epoch 113/200\n",
      "20/20 [==============================] - 0s 2ms/step - loss: 0.3273 - accuracy: 0.8521 - val_loss: 0.3312 - val_accuracy: 0.8367\n",
      "Epoch 114/200\n",
      "20/20 [==============================] - 0s 2ms/step - loss: 0.3719 - accuracy: 0.8537 - val_loss: 0.3319 - val_accuracy: 0.8367\n",
      "Epoch 115/200\n",
      "20/20 [==============================] - 0s 2ms/step - loss: 0.3489 - accuracy: 0.8388 - val_loss: 0.3335 - val_accuracy: 0.8367\n"
     ]
    },
    {
     "name": "stdout",
     "output_type": "stream",
     "text": [
      "Epoch 116/200\n",
      "20/20 [==============================] - 0s 2ms/step - loss: 0.3843 - accuracy: 0.8187 - val_loss: 0.3315 - val_accuracy: 0.8367\n",
      "Epoch 117/200\n",
      "20/20 [==============================] - 0s 2ms/step - loss: 0.3442 - accuracy: 0.8303 - val_loss: 0.3310 - val_accuracy: 0.8367\n",
      "Epoch 118/200\n",
      "20/20 [==============================] - 0s 2ms/step - loss: 0.3679 - accuracy: 0.8416 - val_loss: 0.3287 - val_accuracy: 0.8367\n",
      "Epoch 119/200\n",
      "20/20 [==============================] - 0s 2ms/step - loss: 0.3499 - accuracy: 0.8608 - val_loss: 0.3301 - val_accuracy: 0.8367\n",
      "Epoch 120/200\n",
      "20/20 [==============================] - 0s 2ms/step - loss: 0.3189 - accuracy: 0.8594 - val_loss: 0.3298 - val_accuracy: 0.8367\n",
      "Epoch 121/200\n",
      "20/20 [==============================] - 0s 2ms/step - loss: 0.3770 - accuracy: 0.8404 - val_loss: 0.3293 - val_accuracy: 0.8367\n",
      "Epoch 122/200\n",
      "20/20 [==============================] - 0s 2ms/step - loss: 0.3666 - accuracy: 0.8284 - val_loss: 0.3302 - val_accuracy: 0.8367\n",
      "Epoch 123/200\n",
      "20/20 [==============================] - 0s 2ms/step - loss: 0.3616 - accuracy: 0.8309 - val_loss: 0.3288 - val_accuracy: 0.8367\n",
      "Epoch 124/200\n",
      "20/20 [==============================] - 0s 2ms/step - loss: 0.3034 - accuracy: 0.8687 - val_loss: 0.3299 - val_accuracy: 0.8571\n",
      "Epoch 125/200\n",
      "20/20 [==============================] - 0s 2ms/step - loss: 0.3095 - accuracy: 0.8641 - val_loss: 0.3292 - val_accuracy: 0.8571\n",
      "Epoch 126/200\n",
      "20/20 [==============================] - 0s 2ms/step - loss: 0.3367 - accuracy: 0.8551 - val_loss: 0.3293 - val_accuracy: 0.8571\n",
      "Epoch 127/200\n",
      "20/20 [==============================] - 0s 2ms/step - loss: 0.3513 - accuracy: 0.8336 - val_loss: 0.3281 - val_accuracy: 0.8571\n",
      "Epoch 128/200\n",
      "20/20 [==============================] - 0s 2ms/step - loss: 0.3089 - accuracy: 0.8666 - val_loss: 0.3299 - val_accuracy: 0.8571\n",
      "Epoch 129/200\n",
      "20/20 [==============================] - 0s 2ms/step - loss: 0.3277 - accuracy: 0.8640 - val_loss: 0.3295 - val_accuracy: 0.8571\n",
      "Epoch 130/200\n",
      "20/20 [==============================] - 0s 2ms/step - loss: 0.2918 - accuracy: 0.8505 - val_loss: 0.3280 - val_accuracy: 0.8367\n",
      "Epoch 131/200\n",
      "20/20 [==============================] - 0s 2ms/step - loss: 0.3647 - accuracy: 0.8407 - val_loss: 0.3281 - val_accuracy: 0.8571\n",
      "Epoch 132/200\n",
      "20/20 [==============================] - 0s 2ms/step - loss: 0.3398 - accuracy: 0.8465 - val_loss: 0.3272 - val_accuracy: 0.8571\n",
      "Epoch 133/200\n",
      "20/20 [==============================] - 0s 2ms/step - loss: 0.3296 - accuracy: 0.8433 - val_loss: 0.3273 - val_accuracy: 0.8571\n",
      "Epoch 134/200\n",
      "20/20 [==============================] - 0s 2ms/step - loss: 0.3602 - accuracy: 0.8237 - val_loss: 0.3275 - val_accuracy: 0.8367\n",
      "Epoch 135/200\n",
      "20/20 [==============================] - 0s 2ms/step - loss: 0.3689 - accuracy: 0.8506 - val_loss: 0.3280 - val_accuracy: 0.8571\n",
      "Epoch 136/200\n",
      "20/20 [==============================] - 0s 2ms/step - loss: 0.3636 - accuracy: 0.8084 - val_loss: 0.3304 - val_accuracy: 0.8367\n",
      "Epoch 137/200\n",
      "20/20 [==============================] - 0s 2ms/step - loss: 0.3987 - accuracy: 0.8257 - val_loss: 0.3290 - val_accuracy: 0.8571\n",
      "Epoch 138/200\n",
      "20/20 [==============================] - 0s 2ms/step - loss: 0.3631 - accuracy: 0.8393 - val_loss: 0.3295 - val_accuracy: 0.8571\n",
      "Epoch 139/200\n",
      "20/20 [==============================] - 0s 2ms/step - loss: 0.3615 - accuracy: 0.8121 - val_loss: 0.3299 - val_accuracy: 0.8367\n",
      "Epoch 140/200\n",
      "20/20 [==============================] - 0s 2ms/step - loss: 0.3576 - accuracy: 0.8659 - val_loss: 0.3287 - val_accuracy: 0.8571\n",
      "Epoch 141/200\n",
      "20/20 [==============================] - 0s 2ms/step - loss: 0.2920 - accuracy: 0.8917 - val_loss: 0.3289 - val_accuracy: 0.8571\n",
      "Epoch 142/200\n",
      "20/20 [==============================] - 0s 2ms/step - loss: 0.3096 - accuracy: 0.8717 - val_loss: 0.3285 - val_accuracy: 0.8571\n",
      "Epoch 143/200\n",
      "20/20 [==============================] - 0s 2ms/step - loss: 0.3907 - accuracy: 0.8150 - val_loss: 0.3284 - val_accuracy: 0.8571\n",
      "Epoch 144/200\n",
      "20/20 [==============================] - 0s 2ms/step - loss: 0.3511 - accuracy: 0.8158 - val_loss: 0.3288 - val_accuracy: 0.8571\n",
      "Epoch 145/200\n",
      "20/20 [==============================] - 0s 2ms/step - loss: 0.2969 - accuracy: 0.8708 - val_loss: 0.3286 - val_accuracy: 0.8571\n",
      "Epoch 146/200\n",
      "20/20 [==============================] - 0s 2ms/step - loss: 0.2950 - accuracy: 0.8578 - val_loss: 0.3293 - val_accuracy: 0.8367\n",
      "Epoch 147/200\n",
      "20/20 [==============================] - 0s 2ms/step - loss: 0.3995 - accuracy: 0.7988 - val_loss: 0.3279 - val_accuracy: 0.8571\n",
      "Epoch 148/200\n",
      "20/20 [==============================] - 0s 2ms/step - loss: 0.3212 - accuracy: 0.8684 - val_loss: 0.3275 - val_accuracy: 0.8571\n",
      "Epoch 149/200\n",
      "20/20 [==============================] - 0s 2ms/step - loss: 0.3223 - accuracy: 0.8626 - val_loss: 0.3286 - val_accuracy: 0.8571\n",
      "Epoch 150/200\n",
      "20/20 [==============================] - 0s 2ms/step - loss: 0.2961 - accuracy: 0.8817 - val_loss: 0.3287 - val_accuracy: 0.8571\n",
      "Epoch 151/200\n",
      "20/20 [==============================] - 0s 2ms/step - loss: 0.3365 - accuracy: 0.8382 - val_loss: 0.3263 - val_accuracy: 0.8571\n",
      "Epoch 152/200\n",
      "20/20 [==============================] - 0s 2ms/step - loss: 0.3260 - accuracy: 0.8510 - val_loss: 0.3260 - val_accuracy: 0.8571\n",
      "Epoch 153/200\n",
      "20/20 [==============================] - 0s 2ms/step - loss: 0.2946 - accuracy: 0.8728 - val_loss: 0.3266 - val_accuracy: 0.8571\n",
      "Epoch 154/200\n",
      "20/20 [==============================] - 0s 2ms/step - loss: 0.3564 - accuracy: 0.8408 - val_loss: 0.3250 - val_accuracy: 0.8571\n",
      "Epoch 155/200\n",
      "20/20 [==============================] - 0s 2ms/step - loss: 0.3060 - accuracy: 0.8620 - val_loss: 0.3269 - val_accuracy: 0.8571\n",
      "Epoch 156/200\n",
      "20/20 [==============================] - 0s 2ms/step - loss: 0.3442 - accuracy: 0.8328 - val_loss: 0.3249 - val_accuracy: 0.8571\n",
      "Epoch 157/200\n",
      "20/20 [==============================] - 0s 2ms/step - loss: 0.3843 - accuracy: 0.8011 - val_loss: 0.3250 - val_accuracy: 0.8571\n",
      "Epoch 158/200\n",
      "20/20 [==============================] - 0s 2ms/step - loss: 0.3172 - accuracy: 0.8692 - val_loss: 0.3260 - val_accuracy: 0.8571\n",
      "Epoch 159/200\n",
      "20/20 [==============================] - 0s 2ms/step - loss: 0.3585 - accuracy: 0.8297 - val_loss: 0.3258 - val_accuracy: 0.8571\n",
      "Epoch 160/200\n",
      "20/20 [==============================] - 0s 2ms/step - loss: 0.3251 - accuracy: 0.8629 - val_loss: 0.3281 - val_accuracy: 0.8571\n",
      "Epoch 161/200\n",
      "20/20 [==============================] - 0s 2ms/step - loss: 0.3553 - accuracy: 0.8422 - val_loss: 0.3275 - val_accuracy: 0.8571\n",
      "Epoch 162/200\n",
      "20/20 [==============================] - 0s 2ms/step - loss: 0.3208 - accuracy: 0.8460 - val_loss: 0.3284 - val_accuracy: 0.8571\n",
      "Epoch 163/200\n",
      "20/20 [==============================] - 0s 2ms/step - loss: 0.3289 - accuracy: 0.8384 - val_loss: 0.3280 - val_accuracy: 0.8571\n",
      "Epoch 164/200\n",
      "20/20 [==============================] - 0s 2ms/step - loss: 0.3740 - accuracy: 0.8199 - val_loss: 0.3272 - val_accuracy: 0.8571\n",
      "Epoch 165/200\n",
      "20/20 [==============================] - 0s 2ms/step - loss: 0.3576 - accuracy: 0.8200 - val_loss: 0.3275 - val_accuracy: 0.8571\n",
      "Epoch 166/200\n",
      "20/20 [==============================] - 0s 2ms/step - loss: 0.3073 - accuracy: 0.8637 - val_loss: 0.3267 - val_accuracy: 0.8571\n",
      "Epoch 167/200\n",
      "20/20 [==============================] - 0s 2ms/step - loss: 0.3098 - accuracy: 0.8442 - val_loss: 0.3271 - val_accuracy: 0.8571\n",
      "Epoch 168/200\n",
      "20/20 [==============================] - 0s 2ms/step - loss: 0.3308 - accuracy: 0.8768 - val_loss: 0.3263 - val_accuracy: 0.8571\n",
      "Epoch 169/200\n",
      "20/20 [==============================] - 0s 2ms/step - loss: 0.2703 - accuracy: 0.8747 - val_loss: 0.3275 - val_accuracy: 0.8571\n",
      "Epoch 170/200\n",
      "20/20 [==============================] - 0s 2ms/step - loss: 0.4397 - accuracy: 0.7874 - val_loss: 0.3275 - val_accuracy: 0.8571\n",
      "Epoch 171/200\n",
      "20/20 [==============================] - 0s 2ms/step - loss: 0.3128 - accuracy: 0.8493 - val_loss: 0.3283 - val_accuracy: 0.8571\n",
      "Epoch 172/200\n",
      "20/20 [==============================] - 0s 2ms/step - loss: 0.3167 - accuracy: 0.8347 - val_loss: 0.3262 - val_accuracy: 0.8571\n",
      "Epoch 173/200\n",
      "20/20 [==============================] - 0s 2ms/step - loss: 0.3035 - accuracy: 0.8547 - val_loss: 0.3245 - val_accuracy: 0.8571\n",
      "Epoch 174/200\n",
      "20/20 [==============================] - 0s 2ms/step - loss: 0.2957 - accuracy: 0.8651 - val_loss: 0.3275 - val_accuracy: 0.8571\n",
      "Epoch 175/200\n",
      "20/20 [==============================] - 0s 2ms/step - loss: 0.3698 - accuracy: 0.8407 - val_loss: 0.3250 - val_accuracy: 0.8571\n",
      "Epoch 176/200\n",
      "20/20 [==============================] - 0s 2ms/step - loss: 0.3042 - accuracy: 0.8704 - val_loss: 0.3251 - val_accuracy: 0.8776\n",
      "Epoch 177/200\n",
      "20/20 [==============================] - 0s 2ms/step - loss: 0.3385 - accuracy: 0.8368 - val_loss: 0.3255 - val_accuracy: 0.8776\n",
      "Epoch 178/200\n",
      "20/20 [==============================] - 0s 2ms/step - loss: 0.3159 - accuracy: 0.8704 - val_loss: 0.3257 - val_accuracy: 0.8776\n",
      "Epoch 179/200\n",
      "20/20 [==============================] - 0s 2ms/step - loss: 0.3014 - accuracy: 0.8668 - val_loss: 0.3269 - val_accuracy: 0.8571\n",
      "Epoch 180/200\n",
      "20/20 [==============================] - 0s 2ms/step - loss: 0.2697 - accuracy: 0.8873 - val_loss: 0.3279 - val_accuracy: 0.8571\n",
      "Epoch 181/200\n",
      "20/20 [==============================] - 0s 3ms/step - loss: 0.3021 - accuracy: 0.8495 - val_loss: 0.3286 - val_accuracy: 0.8571\n",
      "Epoch 182/200\n",
      "20/20 [==============================] - 0s 2ms/step - loss: 0.3551 - accuracy: 0.8352 - val_loss: 0.3268 - val_accuracy: 0.8776\n",
      "Epoch 183/200\n",
      "20/20 [==============================] - 0s 2ms/step - loss: 0.3984 - accuracy: 0.7998 - val_loss: 0.3286 - val_accuracy: 0.8776\n",
      "Epoch 184/200\n",
      "20/20 [==============================] - 0s 2ms/step - loss: 0.3311 - accuracy: 0.8377 - val_loss: 0.3287 - val_accuracy: 0.8776\n",
      "Epoch 185/200\n",
      "20/20 [==============================] - 0s 2ms/step - loss: 0.2748 - accuracy: 0.8854 - val_loss: 0.3299 - val_accuracy: 0.8776\n",
      "Epoch 186/200\n",
      "20/20 [==============================] - 0s 2ms/step - loss: 0.2797 - accuracy: 0.8623 - val_loss: 0.3286 - val_accuracy: 0.8776\n",
      "Epoch 187/200\n",
      "20/20 [==============================] - 0s 2ms/step - loss: 0.4059 - accuracy: 0.8336 - val_loss: 0.3275 - val_accuracy: 0.8776\n",
      "Epoch 188/200\n",
      "20/20 [==============================] - 0s 2ms/step - loss: 0.3102 - accuracy: 0.8291 - val_loss: 0.3290 - val_accuracy: 0.8776\n",
      "Epoch 189/200\n",
      "20/20 [==============================] - 0s 2ms/step - loss: 0.2752 - accuracy: 0.8772 - val_loss: 0.3296 - val_accuracy: 0.8776\n",
      "Epoch 190/200\n",
      "20/20 [==============================] - 0s 2ms/step - loss: 0.3985 - accuracy: 0.7994 - val_loss: 0.3262 - val_accuracy: 0.8776\n",
      "Epoch 191/200\n",
      "20/20 [==============================] - 0s 2ms/step - loss: 0.2787 - accuracy: 0.8654 - val_loss: 0.3257 - val_accuracy: 0.8776\n",
      "Epoch 192/200\n",
      "20/20 [==============================] - 0s 2ms/step - loss: 0.3683 - accuracy: 0.8264 - val_loss: 0.3257 - val_accuracy: 0.8776\n",
      "Epoch 193/200\n",
      "20/20 [==============================] - 0s 2ms/step - loss: 0.3490 - accuracy: 0.8512 - val_loss: 0.3262 - val_accuracy: 0.8980\n",
      "Epoch 194/200\n",
      "20/20 [==============================] - 0s 2ms/step - loss: 0.3084 - accuracy: 0.8651 - val_loss: 0.3262 - val_accuracy: 0.8776\n",
      "Epoch 195/200\n",
      "20/20 [==============================] - 0s 2ms/step - loss: 0.3397 - accuracy: 0.8324 - val_loss: 0.3268 - val_accuracy: 0.8980\n",
      "Epoch 196/200\n",
      "20/20 [==============================] - 0s 2ms/step - loss: 0.3013 - accuracy: 0.8603 - val_loss: 0.3281 - val_accuracy: 0.8980\n",
      "Epoch 197/200\n",
      "20/20 [==============================] - 0s 2ms/step - loss: 0.2920 - accuracy: 0.8561 - val_loss: 0.3295 - val_accuracy: 0.8776\n",
      "Epoch 198/200\n",
      "20/20 [==============================] - 0s 2ms/step - loss: 0.3383 - accuracy: 0.8273 - val_loss: 0.3289 - val_accuracy: 0.8776\n",
      "Epoch 199/200\n",
      "20/20 [==============================] - 0s 2ms/step - loss: 0.2871 - accuracy: 0.8678 - val_loss: 0.3275 - val_accuracy: 0.8776\n",
      "Epoch 200/200\n",
      "20/20 [==============================] - 0s 2ms/step - loss: 0.2706 - accuracy: 0.8688 - val_loss: 0.3269 - val_accuracy: 0.8980\n"
     ]
    }
   ],
   "source": [
    "hist= classifier.fit(X_train , y_train , batch_size = 10, epochs =200, validation_split=0.2)"
   ]
  },
  {
   "cell_type": "code",
   "execution_count": 616,
   "metadata": {},
   "outputs": [
    {
     "name": "stdout",
     "output_type": "stream",
     "text": [
      "Model: \"sequential\"\n",
      "_________________________________________________________________\n",
      "Layer (type)                 Output Shape              Param #   \n",
      "=================================================================\n",
      "dense (Dense)                (None, 8)                 104       \n",
      "_________________________________________________________________\n",
      "dense_1 (Dense)              (None, 13)                117       \n",
      "_________________________________________________________________\n",
      "dense_2 (Dense)              (None, 1)                 14        \n",
      "=================================================================\n",
      "Total params: 235\n",
      "Trainable params: 235\n",
      "Non-trainable params: 0\n",
      "_________________________________________________________________\n"
     ]
    }
   ],
   "source": [
    "classifier.summary()"
   ]
  },
  {
   "cell_type": "code",
   "execution_count": 617,
   "metadata": {},
   "outputs": [
    {
     "name": "stdout",
     "output_type": "stream",
     "text": [
      "8/8 [==============================] - 0s 873us/step - loss: 0.3190 - accuracy: 0.8595\n"
     ]
    },
    {
     "data": {
      "text/plain": [
       "[0.3190000653266907, 0.8595041036605835]"
      ]
     },
     "execution_count": 617,
     "metadata": {},
     "output_type": "execute_result"
    }
   ],
   "source": [
    "classifier.evaluate(X_train,y_train)"
   ]
  },
  {
   "cell_type": "code",
   "execution_count": 618,
   "metadata": {},
   "outputs": [
    {
     "data": {
      "text/plain": [
       "array([[9.91186380e-01],\n",
       "       [9.33037281e-01],\n",
       "       [9.48862076e-01],\n",
       "       [8.14001143e-01],\n",
       "       [5.72800517e-01],\n",
       "       [5.87467492e-01],\n",
       "       [1.18304610e-01],\n",
       "       [7.84206867e-01],\n",
       "       [6.24338388e-01],\n",
       "       [3.98119092e-01],\n",
       "       [9.70724225e-01],\n",
       "       [7.99818397e-01],\n",
       "       [2.75256038e-02],\n",
       "       [5.29294610e-02],\n",
       "       [8.10077190e-01],\n",
       "       [9.24911201e-02],\n",
       "       [5.74854076e-01],\n",
       "       [8.05074811e-01],\n",
       "       [3.92888695e-01],\n",
       "       [1.06160045e-02],\n",
       "       [4.62231636e-02],\n",
       "       [1.18693411e-01],\n",
       "       [2.99512684e-01],\n",
       "       [4.44988608e-02],\n",
       "       [2.65293539e-01],\n",
       "       [5.54059744e-02],\n",
       "       [6.40970707e-01],\n",
       "       [7.69741774e-01],\n",
       "       [4.26604748e-01],\n",
       "       [3.06682587e-02],\n",
       "       [8.26108456e-01],\n",
       "       [5.60755670e-01],\n",
       "       [3.13548744e-02],\n",
       "       [9.77591634e-01],\n",
       "       [1.62285179e-01],\n",
       "       [1.41863137e-01],\n",
       "       [1.88718438e-02],\n",
       "       [9.68017220e-01],\n",
       "       [4.84184325e-02],\n",
       "       [1.52362585e-02],\n",
       "       [9.96688724e-01],\n",
       "       [3.87299657e-02],\n",
       "       [7.15124249e-01],\n",
       "       [1.37893230e-01],\n",
       "       [8.60748649e-01],\n",
       "       [9.88092422e-01],\n",
       "       [9.14354682e-01],\n",
       "       [5.57910860e-01],\n",
       "       [9.08305764e-01],\n",
       "       [9.27763879e-02],\n",
       "       [1.20815367e-01],\n",
       "       [2.94794977e-01],\n",
       "       [8.70847702e-03],\n",
       "       [1.39469683e-01],\n",
       "       [5.72612882e-03],\n",
       "       [5.38125396e-01],\n",
       "       [8.21314216e-01],\n",
       "       [9.55654263e-01],\n",
       "       [4.48319554e-01],\n",
       "       [9.94671941e-01],\n",
       "       [9.53756928e-01],\n",
       "       [7.70140529e-01],\n",
       "       [4.96183276e-01],\n",
       "       [8.34734797e-01],\n",
       "       [9.31871116e-01],\n",
       "       [7.00751364e-01],\n",
       "       [7.15713024e-01],\n",
       "       [9.97167528e-01],\n",
       "       [9.75820601e-01],\n",
       "       [9.86947894e-01],\n",
       "       [1.37347877e-01],\n",
       "       [6.14901721e-01],\n",
       "       [9.47371960e-01],\n",
       "       [9.33543980e-01],\n",
       "       [3.63800734e-01],\n",
       "       [7.99084187e-01],\n",
       "       [9.88042593e-01],\n",
       "       [3.67805362e-03],\n",
       "       [1.10493988e-01],\n",
       "       [5.16777694e-01],\n",
       "       [6.07780635e-01],\n",
       "       [9.44597125e-01],\n",
       "       [6.31054342e-01],\n",
       "       [8.49179745e-01],\n",
       "       [7.80353963e-01],\n",
       "       [5.62149048e-01],\n",
       "       [9.44528461e-01],\n",
       "       [9.91838574e-01],\n",
       "       [9.96368408e-01],\n",
       "       [8.32013130e-01],\n",
       "       [9.67107534e-01],\n",
       "       [7.93418407e-01],\n",
       "       [1.51096582e-02],\n",
       "       [3.43233943e-01],\n",
       "       [8.45207214e-01],\n",
       "       [1.03092998e-01],\n",
       "       [1.23440176e-01],\n",
       "       [1.15202367e-02],\n",
       "       [9.73718524e-01],\n",
       "       [7.00108528e-01],\n",
       "       [9.90968764e-01],\n",
       "       [2.76447892e-01],\n",
       "       [9.36030746e-01],\n",
       "       [4.52526212e-02],\n",
       "       [5.56080759e-01],\n",
       "       [7.40810990e-01],\n",
       "       [3.13850343e-02],\n",
       "       [9.79760706e-01],\n",
       "       [9.10630703e-01],\n",
       "       [9.96694684e-01],\n",
       "       [8.99807215e-01],\n",
       "       [9.92952108e-01],\n",
       "       [3.36182714e-02],\n",
       "       [3.24615538e-02],\n",
       "       [9.97228980e-01],\n",
       "       [3.53923440e-03],\n",
       "       [9.93742883e-01],\n",
       "       [7.33885169e-03],\n",
       "       [9.32306111e-01],\n",
       "       [9.55395460e-01],\n",
       "       [2.75520563e-01],\n",
       "       [3.35578024e-02],\n",
       "       [9.42064166e-01],\n",
       "       [8.87166977e-01],\n",
       "       [4.97890800e-01],\n",
       "       [3.02778900e-01],\n",
       "       [6.81254148e-01],\n",
       "       [8.96020889e-01],\n",
       "       [9.51664329e-01],\n",
       "       [3.68567675e-01],\n",
       "       [7.33211517e-01],\n",
       "       [7.18608499e-03],\n",
       "       [6.01345420e-01],\n",
       "       [1.83910578e-01],\n",
       "       [9.47223902e-01],\n",
       "       [9.96442378e-01],\n",
       "       [6.04774952e-02],\n",
       "       [6.87389374e-01],\n",
       "       [9.26464677e-01],\n",
       "       [9.63250995e-01],\n",
       "       [1.54067874e-01],\n",
       "       [2.71835744e-01],\n",
       "       [6.79220915e-01],\n",
       "       [5.13511002e-02],\n",
       "       [7.05334544e-03],\n",
       "       [9.83423591e-01],\n",
       "       [9.79443192e-01],\n",
       "       [9.97052670e-01],\n",
       "       [9.84274387e-01],\n",
       "       [3.85853648e-03],\n",
       "       [7.88302243e-01],\n",
       "       [2.08296776e-02],\n",
       "       [3.62420917e-01],\n",
       "       [3.03417444e-03],\n",
       "       [9.56372857e-01],\n",
       "       [5.80248654e-01],\n",
       "       [9.32725668e-01],\n",
       "       [5.30163646e-02],\n",
       "       [6.17751896e-01],\n",
       "       [7.20858574e-04],\n",
       "       [9.83299136e-01],\n",
       "       [1.49335861e-02],\n",
       "       [9.36118960e-02],\n",
       "       [6.73798025e-01],\n",
       "       [9.71432447e-01],\n",
       "       [9.32256222e-01],\n",
       "       [6.89468384e-02],\n",
       "       [9.31884885e-01],\n",
       "       [3.27604860e-01],\n",
       "       [8.89207840e-01],\n",
       "       [9.95658636e-01],\n",
       "       [5.94336271e-01],\n",
       "       [1.48656160e-01],\n",
       "       [9.93528306e-01],\n",
       "       [5.25138259e-01],\n",
       "       [3.39805305e-01],\n",
       "       [9.81370032e-01],\n",
       "       [2.43674815e-02],\n",
       "       [9.87534821e-01],\n",
       "       [8.04031610e-01],\n",
       "       [7.92856038e-01],\n",
       "       [8.99825215e-01],\n",
       "       [9.27339733e-01],\n",
       "       [3.49453092e-03],\n",
       "       [6.88213110e-03],\n",
       "       [9.77831542e-01],\n",
       "       [7.70965636e-01],\n",
       "       [1.44760758e-01],\n",
       "       [3.26779842e-01],\n",
       "       [6.58197105e-02],\n",
       "       [1.13144130e-01],\n",
       "       [9.57238019e-01],\n",
       "       [9.25331473e-01],\n",
       "       [6.15338862e-01],\n",
       "       [9.00445223e-01],\n",
       "       [3.63134265e-01],\n",
       "       [9.87550974e-01],\n",
       "       [9.93708789e-01],\n",
       "       [2.59244442e-03],\n",
       "       [9.92476046e-01],\n",
       "       [9.49749649e-01],\n",
       "       [3.08044195e-01],\n",
       "       [2.99512684e-01],\n",
       "       [8.76500547e-01],\n",
       "       [8.56302083e-02],\n",
       "       [1.64708763e-01],\n",
       "       [5.39326549e-01],\n",
       "       [9.60770428e-01],\n",
       "       [9.74880695e-01],\n",
       "       [4.95056063e-01],\n",
       "       [3.14503700e-01],\n",
       "       [4.34599817e-01],\n",
       "       [9.96549666e-01],\n",
       "       [4.28616196e-01],\n",
       "       [9.37411904e-01],\n",
       "       [1.07640415e-01],\n",
       "       [2.56667137e-02],\n",
       "       [9.66379046e-02],\n",
       "       [9.95889664e-01],\n",
       "       [2.25771397e-01],\n",
       "       [9.72148180e-01],\n",
       "       [6.50797427e-01],\n",
       "       [1.54919922e-02],\n",
       "       [8.53150785e-02],\n",
       "       [1.04220212e-02],\n",
       "       [1.75348222e-02],\n",
       "       [9.92182016e-01],\n",
       "       [5.05980849e-03],\n",
       "       [9.89342391e-01],\n",
       "       [7.12724209e-01],\n",
       "       [7.53499746e-01],\n",
       "       [3.82468104e-03],\n",
       "       [7.89672434e-02],\n",
       "       [6.56021118e-01],\n",
       "       [1.26610100e-02],\n",
       "       [9.33652520e-01],\n",
       "       [8.99264216e-03],\n",
       "       [2.26193666e-03],\n",
       "       [2.26872444e-01],\n",
       "       [8.43769252e-01],\n",
       "       [9.38302517e-01],\n",
       "       [8.14097881e-01]], dtype=float32)"
      ]
     },
     "execution_count": 618,
     "metadata": {},
     "output_type": "execute_result"
    }
   ],
   "source": [
    "classifier.predict(X_train)"
   ]
  },
  {
   "cell_type": "code",
   "execution_count": 619,
   "metadata": {},
   "outputs": [
    {
     "data": {
      "text/plain": [
       "{'loss': [0.6919004321098328,\n",
       "  0.6853097677230835,\n",
       "  0.6620401740074158,\n",
       "  0.6085081696510315,\n",
       "  0.5338985323905945,\n",
       "  0.4617677330970764,\n",
       "  0.4157421886920929,\n",
       "  0.3910509943962097,\n",
       "  0.3806321620941162,\n",
       "  0.37557515501976013,\n",
       "  0.37273019552230835,\n",
       "  0.3706279993057251,\n",
       "  0.36805182695388794,\n",
       "  0.36706605553627014,\n",
       "  0.36651214957237244,\n",
       "  0.3654029667377472,\n",
       "  0.3641209602355957,\n",
       "  0.36322739720344543,\n",
       "  0.3628305494785309,\n",
       "  0.36312827467918396,\n",
       "  0.36257702112197876,\n",
       "  0.3615730106830597,\n",
       "  0.3620699644088745,\n",
       "  0.36072808504104614,\n",
       "  0.360847145318985,\n",
       "  0.36016181111335754,\n",
       "  0.36093637347221375,\n",
       "  0.36096277832984924,\n",
       "  0.36068055033683777,\n",
       "  0.3601544499397278,\n",
       "  0.35997310280799866,\n",
       "  0.35925567150115967,\n",
       "  0.35967689752578735,\n",
       "  0.3595302104949951,\n",
       "  0.3587392270565033,\n",
       "  0.3587093949317932,\n",
       "  0.3591291904449463,\n",
       "  0.35778433084487915,\n",
       "  0.35822466015815735,\n",
       "  0.35863593220710754,\n",
       "  0.35796719789505005,\n",
       "  0.3579752743244171,\n",
       "  0.357907235622406,\n",
       "  0.35735076665878296,\n",
       "  0.35750192403793335,\n",
       "  0.3571811020374298,\n",
       "  0.3570784032344818,\n",
       "  0.3568357825279236,\n",
       "  0.3564910888671875,\n",
       "  0.3564363718032837,\n",
       "  0.35609930753707886,\n",
       "  0.3566410541534424,\n",
       "  0.35497620701789856,\n",
       "  0.3555654287338257,\n",
       "  0.3554796576499939,\n",
       "  0.35699135065078735,\n",
       "  0.3557911217212677,\n",
       "  0.35503679513931274,\n",
       "  0.3546859920024872,\n",
       "  0.35550373792648315,\n",
       "  0.3547668159008026,\n",
       "  0.3538154661655426,\n",
       "  0.35391345620155334,\n",
       "  0.35377976298332214,\n",
       "  0.3539458215236664,\n",
       "  0.35358813405036926,\n",
       "  0.3532905876636505,\n",
       "  0.35381874442100525,\n",
       "  0.3532271981239319,\n",
       "  0.3538583219051361,\n",
       "  0.35343340039253235,\n",
       "  0.3537082076072693,\n",
       "  0.3533761203289032,\n",
       "  0.3530845046043396,\n",
       "  0.3528958261013031,\n",
       "  0.3520956337451935,\n",
       "  0.35202813148498535,\n",
       "  0.35283640027046204,\n",
       "  0.35225099325180054,\n",
       "  0.3517257571220398,\n",
       "  0.3518560826778412,\n",
       "  0.35141265392303467,\n",
       "  0.35107117891311646,\n",
       "  0.35070011019706726,\n",
       "  0.35061174631118774,\n",
       "  0.3502066731452942,\n",
       "  0.35051244497299194,\n",
       "  0.35030704736709595,\n",
       "  0.3503110408782959,\n",
       "  0.34955471754074097,\n",
       "  0.3498433232307434,\n",
       "  0.3498760759830475,\n",
       "  0.34943923354148865,\n",
       "  0.3508693277835846,\n",
       "  0.3510342836380005,\n",
       "  0.34931477904319763,\n",
       "  0.34899914264678955,\n",
       "  0.34996533393859863,\n",
       "  0.3486415445804596,\n",
       "  0.34796372056007385,\n",
       "  0.3489494025707245,\n",
       "  0.34778618812561035,\n",
       "  0.3473859131336212,\n",
       "  0.34750401973724365,\n",
       "  0.34733933210372925,\n",
       "  0.34736424684524536,\n",
       "  0.34719476103782654,\n",
       "  0.34740129113197327,\n",
       "  0.34632840752601624,\n",
       "  0.34578290581703186,\n",
       "  0.3459569811820984,\n",
       "  0.3458073139190674,\n",
       "  0.34552526473999023,\n",
       "  0.3450964391231537,\n",
       "  0.3448282480239868,\n",
       "  0.3459736406803131,\n",
       "  0.3450852632522583,\n",
       "  0.34576645493507385,\n",
       "  0.34471017122268677,\n",
       "  0.3436991274356842,\n",
       "  0.3441348671913147,\n",
       "  0.343336820602417,\n",
       "  0.3429466485977173,\n",
       "  0.34348660707473755,\n",
       "  0.3428279161453247,\n",
       "  0.34297388792037964,\n",
       "  0.34259119629859924,\n",
       "  0.34243208169937134,\n",
       "  0.34125810861587524,\n",
       "  0.3418627977371216,\n",
       "  0.341467022895813,\n",
       "  0.34073880314826965,\n",
       "  0.3411059081554413,\n",
       "  0.3417190909385681,\n",
       "  0.34011879563331604,\n",
       "  0.34002482891082764,\n",
       "  0.34051844477653503,\n",
       "  0.33975639939308167,\n",
       "  0.33992481231689453,\n",
       "  0.33873772621154785,\n",
       "  0.33878982067108154,\n",
       "  0.33889031410217285,\n",
       "  0.33890554308891296,\n",
       "  0.3378598690032959,\n",
       "  0.3381015956401825,\n",
       "  0.338384211063385,\n",
       "  0.33884528279304504,\n",
       "  0.33839163184165955,\n",
       "  0.3368331789970398,\n",
       "  0.33647769689559937,\n",
       "  0.3373151421546936,\n",
       "  0.3351529836654663,\n",
       "  0.33570849895477295,\n",
       "  0.33533039689064026,\n",
       "  0.3354734778404236,\n",
       "  0.3351142704486847,\n",
       "  0.3338392674922943,\n",
       "  0.33359482884407043,\n",
       "  0.33362478017807007,\n",
       "  0.33374860882759094,\n",
       "  0.33281633257865906,\n",
       "  0.33361002802848816,\n",
       "  0.33218562602996826,\n",
       "  0.3317127823829651,\n",
       "  0.3306728005409241,\n",
       "  0.33130529522895813,\n",
       "  0.33018866181373596,\n",
       "  0.3306002914905548,\n",
       "  0.33086106181144714,\n",
       "  0.3310544490814209,\n",
       "  0.32947665452957153,\n",
       "  0.3281141221523285,\n",
       "  0.32915523648262024,\n",
       "  0.3287048041820526,\n",
       "  0.3283698260784149,\n",
       "  0.32860639691352844,\n",
       "  0.32833895087242126,\n",
       "  0.32644885778427124,\n",
       "  0.3261527121067047,\n",
       "  0.3265117406845093,\n",
       "  0.32600075006484985,\n",
       "  0.3269180655479431,\n",
       "  0.3252692222595215,\n",
       "  0.3246048390865326,\n",
       "  0.32439664006233215,\n",
       "  0.32493478059768677,\n",
       "  0.3237200975418091,\n",
       "  0.323532372713089,\n",
       "  0.3244801163673401,\n",
       "  0.32465729117393494,\n",
       "  0.3224922716617584,\n",
       "  0.3219512104988098,\n",
       "  0.32186299562454224,\n",
       "  0.32178637385368347,\n",
       "  0.3209119141101837,\n",
       "  0.3207387924194336,\n",
       "  0.32009145617485046,\n",
       "  0.32022666931152344,\n",
       "  0.32027295231819153,\n",
       "  0.3188976049423218],\n",
       " 'accuracy': [0.5803108811378479,\n",
       "  0.6943005323410034,\n",
       "  0.818652868270874,\n",
       "  0.8290155529975891,\n",
       "  0.8290155529975891,\n",
       "  0.8290155529975891,\n",
       "  0.8290155529975891,\n",
       "  0.8341968655586243,\n",
       "  0.8393782377243042,\n",
       "  0.8341968655586243,\n",
       "  0.8341968655586243,\n",
       "  0.8445596098899841,\n",
       "  0.8445596098899841,\n",
       "  0.8341968655586243,\n",
       "  0.8341968655586243,\n",
       "  0.8393782377243042,\n",
       "  0.8393782377243042,\n",
       "  0.8445596098899841,\n",
       "  0.8445596098899841,\n",
       "  0.8445596098899841,\n",
       "  0.8445596098899841,\n",
       "  0.8445596098899841,\n",
       "  0.8445596098899841,\n",
       "  0.8445596098899841,\n",
       "  0.8445596098899841,\n",
       "  0.8445596098899841,\n",
       "  0.8445596098899841,\n",
       "  0.8445596098899841,\n",
       "  0.8445596098899841,\n",
       "  0.8445596098899841,\n",
       "  0.8445596098899841,\n",
       "  0.8445596098899841,\n",
       "  0.8445596098899841,\n",
       "  0.8445596098899841,\n",
       "  0.8445596098899841,\n",
       "  0.8497409224510193,\n",
       "  0.8497409224510193,\n",
       "  0.8497409224510193,\n",
       "  0.8497409224510193,\n",
       "  0.8497409224510193,\n",
       "  0.8497409224510193,\n",
       "  0.8497409224510193,\n",
       "  0.8497409224510193,\n",
       "  0.8497409224510193,\n",
       "  0.8497409224510193,\n",
       "  0.8497409224510193,\n",
       "  0.8497409224510193,\n",
       "  0.8445596098899841,\n",
       "  0.8445596098899841,\n",
       "  0.8497409224510193,\n",
       "  0.8445596098899841,\n",
       "  0.8445596098899841,\n",
       "  0.8497409224510193,\n",
       "  0.8497409224510193,\n",
       "  0.8497409224510193,\n",
       "  0.8497409224510193,\n",
       "  0.8497409224510193,\n",
       "  0.8497409224510193,\n",
       "  0.8497409224510193,\n",
       "  0.8497409224510193,\n",
       "  0.8497409224510193,\n",
       "  0.8497409224510193,\n",
       "  0.8497409224510193,\n",
       "  0.8497409224510193,\n",
       "  0.8497409224510193,\n",
       "  0.8445596098899841,\n",
       "  0.8445596098899841,\n",
       "  0.8445596098899841,\n",
       "  0.8445596098899841,\n",
       "  0.8445596098899841,\n",
       "  0.8445596098899841,\n",
       "  0.8497409224510193,\n",
       "  0.8497409224510193,\n",
       "  0.8445596098899841,\n",
       "  0.8497409224510193,\n",
       "  0.8497409224510193,\n",
       "  0.8497409224510193,\n",
       "  0.8497409224510193,\n",
       "  0.8497409224510193,\n",
       "  0.8497409224510193,\n",
       "  0.8497409224510193,\n",
       "  0.8497409224510193,\n",
       "  0.8497409224510193,\n",
       "  0.8445596098899841,\n",
       "  0.8445596098899841,\n",
       "  0.8445596098899841,\n",
       "  0.8497409224510193,\n",
       "  0.8445596098899841,\n",
       "  0.8445596098899841,\n",
       "  0.8445596098899841,\n",
       "  0.8445596098899841,\n",
       "  0.8497409224510193,\n",
       "  0.8445596098899841,\n",
       "  0.8445596098899841,\n",
       "  0.8445596098899841,\n",
       "  0.8445596098899841,\n",
       "  0.8497409224510193,\n",
       "  0.8497409224510193,\n",
       "  0.8497409224510193,\n",
       "  0.8497409224510193,\n",
       "  0.8497409224510193,\n",
       "  0.8497409224510193,\n",
       "  0.8497409224510193,\n",
       "  0.8497409224510193,\n",
       "  0.8497409224510193,\n",
       "  0.8497409224510193,\n",
       "  0.8497409224510193,\n",
       "  0.8445596098899841,\n",
       "  0.8497409224510193,\n",
       "  0.8445596098899841,\n",
       "  0.8445596098899841,\n",
       "  0.8445596098899841,\n",
       "  0.8445596098899841,\n",
       "  0.8445596098899841,\n",
       "  0.8445596098899841,\n",
       "  0.8497409224510193,\n",
       "  0.8445596098899841,\n",
       "  0.8497409224510193,\n",
       "  0.8497409224510193,\n",
       "  0.8445596098899841,\n",
       "  0.8445596098899841,\n",
       "  0.8497409224510193,\n",
       "  0.8497409224510193,\n",
       "  0.8497409224510193,\n",
       "  0.8497409224510193,\n",
       "  0.8497409224510193,\n",
       "  0.8497409224510193,\n",
       "  0.8497409224510193,\n",
       "  0.8497409224510193,\n",
       "  0.8445596098899841,\n",
       "  0.8497409224510193,\n",
       "  0.8497409224510193,\n",
       "  0.8497409224510193,\n",
       "  0.8445596098899841,\n",
       "  0.8497409224510193,\n",
       "  0.8497409224510193,\n",
       "  0.8497409224510193,\n",
       "  0.8497409224510193,\n",
       "  0.8445596098899841,\n",
       "  0.8497409224510193,\n",
       "  0.8497409224510193,\n",
       "  0.8497409224510193,\n",
       "  0.8497409224510193,\n",
       "  0.8497409224510193,\n",
       "  0.8497409224510193,\n",
       "  0.8445596098899841,\n",
       "  0.8497409224510193,\n",
       "  0.8497409224510193,\n",
       "  0.8497409224510193,\n",
       "  0.8497409224510193,\n",
       "  0.8497409224510193,\n",
       "  0.8497409224510193,\n",
       "  0.8497409224510193,\n",
       "  0.8497409224510193,\n",
       "  0.8497409224510193,\n",
       "  0.8497409224510193,\n",
       "  0.8497409224510193,\n",
       "  0.8497409224510193,\n",
       "  0.8497409224510193,\n",
       "  0.8497409224510193,\n",
       "  0.8497409224510193,\n",
       "  0.8497409224510193,\n",
       "  0.8497409224510193,\n",
       "  0.8497409224510193,\n",
       "  0.8497409224510193,\n",
       "  0.8497409224510193,\n",
       "  0.8497409224510193,\n",
       "  0.8497409224510193,\n",
       "  0.8497409224510193,\n",
       "  0.8497409224510193,\n",
       "  0.8445596098899841,\n",
       "  0.8497409224510193,\n",
       "  0.8497409224510193,\n",
       "  0.8497409224510193,\n",
       "  0.8497409224510193,\n",
       "  0.8549222946166992,\n",
       "  0.8497409224510193,\n",
       "  0.8497409224510193,\n",
       "  0.8497409224510193,\n",
       "  0.8497409224510193,\n",
       "  0.8497409224510193,\n",
       "  0.8497409224510193,\n",
       "  0.8497409224510193,\n",
       "  0.8445596098899841,\n",
       "  0.8445596098899841,\n",
       "  0.8549222946166992,\n",
       "  0.8549222946166992,\n",
       "  0.8445596098899841,\n",
       "  0.8445596098899841,\n",
       "  0.8445596098899841,\n",
       "  0.8445596098899841,\n",
       "  0.8497409224510193,\n",
       "  0.8497409224510193,\n",
       "  0.8497409224510193,\n",
       "  0.8445596098899841,\n",
       "  0.8445596098899841,\n",
       "  0.8445596098899841,\n",
       "  0.8445596098899841,\n",
       "  0.8497409224510193,\n",
       "  0.8445596098899841],\n",
       " 'val_loss': [0.6907015442848206,\n",
       "  0.6780713200569153,\n",
       "  0.6391475200653076,\n",
       "  0.5665573477745056,\n",
       "  0.4825468361377716,\n",
       "  0.42044955492019653,\n",
       "  0.38243964314460754,\n",
       "  0.366161584854126,\n",
       "  0.3547489643096924,\n",
       "  0.34999048709869385,\n",
       "  0.34436050057411194,\n",
       "  0.34257835149765015,\n",
       "  0.3408035337924957,\n",
       "  0.3376339375972748,\n",
       "  0.33803269267082214,\n",
       "  0.33913397789001465,\n",
       "  0.3372385501861572,\n",
       "  0.33652225136756897,\n",
       "  0.3366301357746124,\n",
       "  0.33737853169441223,\n",
       "  0.33678966760635376,\n",
       "  0.33608487248420715,\n",
       "  0.33649277687072754,\n",
       "  0.3357742428779602,\n",
       "  0.33504337072372437,\n",
       "  0.33524397015571594,\n",
       "  0.3357711434364319,\n",
       "  0.3388119041919708,\n",
       "  0.33988499641418457,\n",
       "  0.33913642168045044,\n",
       "  0.34051501750946045,\n",
       "  0.3394787013530731,\n",
       "  0.33896327018737793,\n",
       "  0.33981674909591675,\n",
       "  0.3384149372577667,\n",
       "  0.3366803228855133,\n",
       "  0.33844780921936035,\n",
       "  0.33782604336738586,\n",
       "  0.33858722448349,\n",
       "  0.337627649307251,\n",
       "  0.3376302421092987,\n",
       "  0.3402383029460907,\n",
       "  0.3383772373199463,\n",
       "  0.33842459321022034,\n",
       "  0.3403150141239166,\n",
       "  0.33896854519844055,\n",
       "  0.3394632637500763,\n",
       "  0.3412776589393616,\n",
       "  0.3429230749607086,\n",
       "  0.34259697794914246,\n",
       "  0.34159570932388306,\n",
       "  0.3414498269557953,\n",
       "  0.33960458636283875,\n",
       "  0.33953696489334106,\n",
       "  0.339504599571228,\n",
       "  0.3398372232913971,\n",
       "  0.33962690830230713,\n",
       "  0.3388224244117737,\n",
       "  0.338528573513031,\n",
       "  0.33881622552871704,\n",
       "  0.339359313249588,\n",
       "  0.3375109136104584,\n",
       "  0.33741265535354614,\n",
       "  0.338212251663208,\n",
       "  0.337787002325058,\n",
       "  0.3386824131011963,\n",
       "  0.3387226164340973,\n",
       "  0.33670052886009216,\n",
       "  0.3383494019508362,\n",
       "  0.3377624750137329,\n",
       "  0.33681604266166687,\n",
       "  0.3378581702709198,\n",
       "  0.33460962772369385,\n",
       "  0.3333813548088074,\n",
       "  0.3335382044315338,\n",
       "  0.33397823572158813,\n",
       "  0.3311862647533417,\n",
       "  0.33197450637817383,\n",
       "  0.3322822153568268,\n",
       "  0.3311992883682251,\n",
       "  0.33190563321113586,\n",
       "  0.3315962851047516,\n",
       "  0.33201760053634644,\n",
       "  0.3327455222606659,\n",
       "  0.3327926695346832,\n",
       "  0.33453378081321716,\n",
       "  0.3349284827709198,\n",
       "  0.3354339301586151,\n",
       "  0.33497482538223267,\n",
       "  0.33445286750793457,\n",
       "  0.33107998967170715,\n",
       "  0.33192160725593567,\n",
       "  0.3312827944755554,\n",
       "  0.33092308044433594,\n",
       "  0.32960304617881775,\n",
       "  0.3288895785808563,\n",
       "  0.3279641568660736,\n",
       "  0.32968711853027344,\n",
       "  0.3278982937335968,\n",
       "  0.32960182428359985,\n",
       "  0.3287946283817291,\n",
       "  0.330410897731781,\n",
       "  0.3307682275772095,\n",
       "  0.3305138051509857,\n",
       "  0.32944056391716003,\n",
       "  0.330096036195755,\n",
       "  0.3303367495536804,\n",
       "  0.330411434173584,\n",
       "  0.3329715430736542,\n",
       "  0.33280470967292786,\n",
       "  0.33282506465911865,\n",
       "  0.33120113611221313,\n",
       "  0.33124691247940063,\n",
       "  0.33185452222824097,\n",
       "  0.33345624804496765,\n",
       "  0.331463098526001,\n",
       "  0.33095037937164307,\n",
       "  0.32873183488845825,\n",
       "  0.33010098338127136,\n",
       "  0.3298283815383911,\n",
       "  0.3293379247188568,\n",
       "  0.3302251100540161,\n",
       "  0.32884764671325684,\n",
       "  0.3299185335636139,\n",
       "  0.32915812730789185,\n",
       "  0.32928428053855896,\n",
       "  0.3280901610851288,\n",
       "  0.3298990726470947,\n",
       "  0.3295043110847473,\n",
       "  0.328020304441452,\n",
       "  0.3281339108943939,\n",
       "  0.3271527886390686,\n",
       "  0.3273133933544159,\n",
       "  0.32746660709381104,\n",
       "  0.3279988467693329,\n",
       "  0.33042627573013306,\n",
       "  0.32895979285240173,\n",
       "  0.3295254111289978,\n",
       "  0.32991138100624084,\n",
       "  0.32872438430786133,\n",
       "  0.32894080877304077,\n",
       "  0.32846903800964355,\n",
       "  0.3284233510494232,\n",
       "  0.32883378863334656,\n",
       "  0.32859861850738525,\n",
       "  0.32930833101272583,\n",
       "  0.3279109001159668,\n",
       "  0.3275349736213684,\n",
       "  0.3285834789276123,\n",
       "  0.3287430703639984,\n",
       "  0.3263148069381714,\n",
       "  0.3260270357131958,\n",
       "  0.3265921473503113,\n",
       "  0.3250335454940796,\n",
       "  0.3269149959087372,\n",
       "  0.32486000657081604,\n",
       "  0.32496753334999084,\n",
       "  0.3260352909564972,\n",
       "  0.3258208930492401,\n",
       "  0.32808417081832886,\n",
       "  0.3274954557418823,\n",
       "  0.32836148142814636,\n",
       "  0.3279884457588196,\n",
       "  0.32724153995513916,\n",
       "  0.32750964164733887,\n",
       "  0.3267219662666321,\n",
       "  0.3271298408508301,\n",
       "  0.32629257440567017,\n",
       "  0.3275437653064728,\n",
       "  0.3274523615837097,\n",
       "  0.3283464014530182,\n",
       "  0.32616114616394043,\n",
       "  0.32447734475135803,\n",
       "  0.32749032974243164,\n",
       "  0.32500749826431274,\n",
       "  0.32506585121154785,\n",
       "  0.32548701763153076,\n",
       "  0.3256833553314209,\n",
       "  0.3269312381744385,\n",
       "  0.32792457938194275,\n",
       "  0.32856011390686035,\n",
       "  0.3267726004123688,\n",
       "  0.328582227230072,\n",
       "  0.328660249710083,\n",
       "  0.32987985014915466,\n",
       "  0.32860565185546875,\n",
       "  0.3275436460971832,\n",
       "  0.32904142141342163,\n",
       "  0.3296254575252533,\n",
       "  0.3262411952018738,\n",
       "  0.3257138133049011,\n",
       "  0.32572683691978455,\n",
       "  0.32618123292922974,\n",
       "  0.32618239521980286,\n",
       "  0.32684126496315,\n",
       "  0.3280947208404541,\n",
       "  0.3294682800769806,\n",
       "  0.3289155066013336,\n",
       "  0.32747623324394226,\n",
       "  0.3268927037715912],\n",
       " 'val_accuracy': [0.5510203838348389,\n",
       "  0.7551020383834839,\n",
       "  0.8367347121238708,\n",
       "  0.8367347121238708,\n",
       "  0.8367347121238708,\n",
       "  0.8367347121238708,\n",
       "  0.8367347121238708,\n",
       "  0.8367347121238708,\n",
       "  0.8571428656578064,\n",
       "  0.8571428656578064,\n",
       "  0.8571428656578064,\n",
       "  0.8571428656578064,\n",
       "  0.8367347121238708,\n",
       "  0.8367347121238708,\n",
       "  0.8163265585899353,\n",
       "  0.8163265585899353,\n",
       "  0.8163265585899353,\n",
       "  0.8367347121238708,\n",
       "  0.8163265585899353,\n",
       "  0.8367347121238708,\n",
       "  0.8163265585899353,\n",
       "  0.8163265585899353,\n",
       "  0.8163265585899353,\n",
       "  0.8163265585899353,\n",
       "  0.8163265585899353,\n",
       "  0.8163265585899353,\n",
       "  0.8163265585899353,\n",
       "  0.8163265585899353,\n",
       "  0.8163265585899353,\n",
       "  0.8163265585899353,\n",
       "  0.8163265585899353,\n",
       "  0.8163265585899353,\n",
       "  0.8163265585899353,\n",
       "  0.8163265585899353,\n",
       "  0.8163265585899353,\n",
       "  0.8367347121238708,\n",
       "  0.8367347121238708,\n",
       "  0.8367347121238708,\n",
       "  0.8367347121238708,\n",
       "  0.8367347121238708,\n",
       "  0.8367347121238708,\n",
       "  0.8367347121238708,\n",
       "  0.8367347121238708,\n",
       "  0.8367347121238708,\n",
       "  0.8367347121238708,\n",
       "  0.8367347121238708,\n",
       "  0.8367347121238708,\n",
       "  0.8367347121238708,\n",
       "  0.8367347121238708,\n",
       "  0.8367347121238708,\n",
       "  0.8367347121238708,\n",
       "  0.8367347121238708,\n",
       "  0.8367347121238708,\n",
       "  0.8367347121238708,\n",
       "  0.8367347121238708,\n",
       "  0.8367347121238708,\n",
       "  0.8367347121238708,\n",
       "  0.8367347121238708,\n",
       "  0.8367347121238708,\n",
       "  0.8367347121238708,\n",
       "  0.8367347121238708,\n",
       "  0.8367347121238708,\n",
       "  0.8367347121238708,\n",
       "  0.8367347121238708,\n",
       "  0.8367347121238708,\n",
       "  0.8367347121238708,\n",
       "  0.8367347121238708,\n",
       "  0.8367347121238708,\n",
       "  0.8367347121238708,\n",
       "  0.8367347121238708,\n",
       "  0.8367347121238708,\n",
       "  0.8367347121238708,\n",
       "  0.8367347121238708,\n",
       "  0.8367347121238708,\n",
       "  0.8367347121238708,\n",
       "  0.8367347121238708,\n",
       "  0.8367347121238708,\n",
       "  0.8367347121238708,\n",
       "  0.8367347121238708,\n",
       "  0.8367347121238708,\n",
       "  0.8367347121238708,\n",
       "  0.8367347121238708,\n",
       "  0.8367347121238708,\n",
       "  0.8367347121238708,\n",
       "  0.8367347121238708,\n",
       "  0.8367347121238708,\n",
       "  0.8367347121238708,\n",
       "  0.8367347121238708,\n",
       "  0.8367347121238708,\n",
       "  0.8367347121238708,\n",
       "  0.8367347121238708,\n",
       "  0.8367347121238708,\n",
       "  0.8367347121238708,\n",
       "  0.8367347121238708,\n",
       "  0.8367347121238708,\n",
       "  0.8367347121238708,\n",
       "  0.8367347121238708,\n",
       "  0.8367347121238708,\n",
       "  0.8367347121238708,\n",
       "  0.8367347121238708,\n",
       "  0.8367347121238708,\n",
       "  0.8367347121238708,\n",
       "  0.8367347121238708,\n",
       "  0.8367347121238708,\n",
       "  0.8367347121238708,\n",
       "  0.8367347121238708,\n",
       "  0.8367347121238708,\n",
       "  0.8367347121238708,\n",
       "  0.8367347121238708,\n",
       "  0.8367347121238708,\n",
       "  0.8367347121238708,\n",
       "  0.8367347121238708,\n",
       "  0.8367347121238708,\n",
       "  0.8367347121238708,\n",
       "  0.8367347121238708,\n",
       "  0.8367347121238708,\n",
       "  0.8367347121238708,\n",
       "  0.8367347121238708,\n",
       "  0.8367347121238708,\n",
       "  0.8367347121238708,\n",
       "  0.8367347121238708,\n",
       "  0.8367347121238708,\n",
       "  0.8367347121238708,\n",
       "  0.8571428656578064,\n",
       "  0.8571428656578064,\n",
       "  0.8571428656578064,\n",
       "  0.8571428656578064,\n",
       "  0.8571428656578064,\n",
       "  0.8571428656578064,\n",
       "  0.8367347121238708,\n",
       "  0.8571428656578064,\n",
       "  0.8571428656578064,\n",
       "  0.8571428656578064,\n",
       "  0.8367347121238708,\n",
       "  0.8571428656578064,\n",
       "  0.8367347121238708,\n",
       "  0.8571428656578064,\n",
       "  0.8571428656578064,\n",
       "  0.8367347121238708,\n",
       "  0.8571428656578064,\n",
       "  0.8571428656578064,\n",
       "  0.8571428656578064,\n",
       "  0.8571428656578064,\n",
       "  0.8571428656578064,\n",
       "  0.8571428656578064,\n",
       "  0.8367347121238708,\n",
       "  0.8571428656578064,\n",
       "  0.8571428656578064,\n",
       "  0.8571428656578064,\n",
       "  0.8571428656578064,\n",
       "  0.8571428656578064,\n",
       "  0.8571428656578064,\n",
       "  0.8571428656578064,\n",
       "  0.8571428656578064,\n",
       "  0.8571428656578064,\n",
       "  0.8571428656578064,\n",
       "  0.8571428656578064,\n",
       "  0.8571428656578064,\n",
       "  0.8571428656578064,\n",
       "  0.8571428656578064,\n",
       "  0.8571428656578064,\n",
       "  0.8571428656578064,\n",
       "  0.8571428656578064,\n",
       "  0.8571428656578064,\n",
       "  0.8571428656578064,\n",
       "  0.8571428656578064,\n",
       "  0.8571428656578064,\n",
       "  0.8571428656578064,\n",
       "  0.8571428656578064,\n",
       "  0.8571428656578064,\n",
       "  0.8571428656578064,\n",
       "  0.8571428656578064,\n",
       "  0.8571428656578064,\n",
       "  0.8571428656578064,\n",
       "  0.8571428656578064,\n",
       "  0.8775510191917419,\n",
       "  0.8775510191917419,\n",
       "  0.8775510191917419,\n",
       "  0.8571428656578064,\n",
       "  0.8571428656578064,\n",
       "  0.8571428656578064,\n",
       "  0.8775510191917419,\n",
       "  0.8775510191917419,\n",
       "  0.8775510191917419,\n",
       "  0.8775510191917419,\n",
       "  0.8775510191917419,\n",
       "  0.8775510191917419,\n",
       "  0.8775510191917419,\n",
       "  0.8775510191917419,\n",
       "  0.8775510191917419,\n",
       "  0.8775510191917419,\n",
       "  0.8775510191917419,\n",
       "  0.8979591727256775,\n",
       "  0.8775510191917419,\n",
       "  0.8979591727256775,\n",
       "  0.8979591727256775,\n",
       "  0.8775510191917419,\n",
       "  0.8775510191917419,\n",
       "  0.8775510191917419,\n",
       "  0.8979591727256775]}"
      ]
     },
     "execution_count": 619,
     "metadata": {},
     "output_type": "execute_result"
    }
   ],
   "source": [
    "hist.history"
   ]
  },
  {
   "cell_type": "code",
   "execution_count": 620,
   "metadata": {},
   "outputs": [],
   "source": [
    "#plt.plot(hist.history['loss'])\n",
    "#plt.plot(hist.history['val_loss'])"
   ]
  },
  {
   "cell_type": "code",
   "execution_count": 621,
   "metadata": {},
   "outputs": [
    {
     "data": {
      "text/plain": [
       "<AxesSubplot:>"
      ]
     },
     "execution_count": 621,
     "metadata": {},
     "output_type": "execute_result"
    },
    {
     "data": {
      "image/png": "[encoded data removed]",
      "text/plain": [
       "<Figure size 1008x432 with 1 Axes>"
      ]
     },
     "metadata": {
      "needs_background": "light"
     },
     "output_type": "display_data"
    }
   ],
   "source": [
    "pd.DataFrame(hist.history).plot()"
   ]
  },
  {
   "cell_type": "code",
   "execution_count": 622,
   "metadata": {},
   "outputs": [],
   "source": [
    "#plt.plot(hist.history['accuracy'])\n",
    "#plt.plot(hist.history['val_accuracy'])"
   ]
  },
  {
   "cell_type": "code",
   "execution_count": null,
   "metadata": {},
   "outputs": [],
   "source": []
  },
  {
   "cell_type": "code",
   "execution_count": null,
   "metadata": {},
   "outputs": [],
   "source": []
  },
  {
   "cell_type": "code",
   "execution_count": 623,
   "metadata": {},
   "outputs": [],
   "source": [
    "y_pred = classifier.predict(X_test)\n",
    "y_pred = (y_pred > 0.5)"
   ]
  },
  {
   "cell_type": "code",
   "execution_count": 624,
   "metadata": {},
   "outputs": [
    {
     "data": {
      "text/plain": [
       "array([[22,  5],\n",
       "       [ 5, 29]])"
      ]
     },
     "execution_count": 624,
     "metadata": {},
     "output_type": "execute_result"
    }
   ],
   "source": [
    "cm = confusion_matrix(y_test,y_pred)\n",
    "cm"
   ]
  },
  {
   "cell_type": "code",
   "execution_count": 625,
   "metadata": {},
   "outputs": [
    {
     "name": "stdout",
     "output_type": "stream",
     "text": [
      "83.60655737704919\n"
     ]
    }
   ],
   "source": [
    "accuracy = (cm[0][0]+cm[1][1])/(cm[0][1] + cm[1][0] +cm[0][0] +cm[1][1])\n",
    "print(accuracy*100)"
   ]
  },
  {
   "cell_type": "code",
   "execution_count": 626,
   "metadata": {},
   "outputs": [
    {
     "name": "stdout",
     "output_type": "stream",
     "text": [
      "How does model ANN score:\n",
      "The accuracy of the model is: 0.836\n",
      "The precision of the model is: 0.853\n",
      "The recall of the model is: 0.853\n",
      "The f1-score of the model is: 0.853\n",
      "[[22  5]\n",
      " [ 5 29]]\n"
     ]
    },
    {
     "data": {
      "image/png": "[encoded data removed]",
      "text/plain": [
       "<Figure size 432x432 with 2 Axes>"
      ]
     },
     "metadata": {
      "needs_background": "light"
     },
     "output_type": "display_data"
    }
   ],
   "source": [
    "print_evaluations(y_test, y_pred, 'ANN')"
   ]
  },
  {
   "cell_type": "code",
   "execution_count": 627,
   "metadata": {},
   "outputs": [
    {
     "data": {
      "text/plain": [
       "[array([[-0.3603898 , -0.26809478, -0.02232407, -0.2149682 , -0.06149188,\n",
       "         -0.12931043, -0.2969283 , -0.39386773],\n",
       "        [ 0.12183288,  0.00590229, -0.37774968,  0.09490937, -0.19423683,\n",
       "         -0.41574052,  0.09479546,  0.05737486],\n",
       "        [ 0.0414429 , -0.11955973, -0.00609483,  0.00876023,  0.14752947,\n",
       "          0.09325884,  0.02542422, -0.16261886],\n",
       "        [ 0.12666428, -0.07227533,  0.00256274,  0.01347588,  0.08007652,\n",
       "          0.0263181 ,  0.07420629,  0.07638595],\n",
       "        [ 0.13576402,  0.08438637,  0.26134914,  0.11335439,  0.24702975,\n",
       "          0.2515575 ,  0.09312797, -0.06983633],\n",
       "        [-0.08727752, -0.02309263, -0.20065367, -0.15902476,  0.05284054,\n",
       "         -0.11052427, -0.15451272,  0.19923742],\n",
       "        [ 0.30514294,  0.22839065,  0.26824215,  0.25024682,  0.07413047,\n",
       "          0.29483518,  0.20692492,  0.2938522 ],\n",
       "        [-0.16874434,  0.10873328,  0.17598094,  0.02417634,  0.2528206 ,\n",
       "          0.2617071 , -0.10133024, -0.06668205],\n",
       "        [ 0.0373509 , -0.02077081,  0.30614442,  0.12142836,  0.40202108,\n",
       "          0.26507652,  0.16977543, -0.13360842],\n",
       "        [-0.04891337,  0.1784822 , -0.00091718,  0.0246161 , -0.17133518,\n",
       "         -0.04550579,  0.03333908,  0.20506376],\n",
       "        [-0.24611087, -0.5633916 ,  0.18142009, -0.59145874,  0.11484479,\n",
       "          0.15088691, -0.5130145 , -0.05417832],\n",
       "        [-0.13715126, -0.17757845,  0.02282689, -0.21843523,  0.08912778,\n",
       "          0.02043197, -0.20060702, -0.13918416]], dtype=float32),\n",
       " array([-0.11503268, -0.06638708, -0.02056254, -0.09197994, -0.06311519,\n",
       "        -0.05007998, -0.0665082 , -0.05387426], dtype=float32),\n",
       " array([[-0.04339532,  0.3326254 , -0.00991985,  0.40103492,  0.3271906 ,\n",
       "          0.02920415,  0.41686147,  0.34084797,  0.0132806 ,  0.38555384,\n",
       "         -0.05224915, -0.05470778, -0.06077026],\n",
       "        [-0.15232383,  0.4517357 , -0.12634182,  0.44405392,  0.47848248,\n",
       "         -0.13437586,  0.41248757,  0.3973383 , -0.08851345,  0.4221271 ,\n",
       "         -0.11025904, -0.141059  , -0.12354793],\n",
       "        [ 0.4392094 , -0.13937925,  0.47654477, -0.12863919, -0.11765032,\n",
       "          0.43041298, -0.1417478 , -0.16556847,  0.502698  , -0.11365519,\n",
       "          0.36116764,  0.45173335,  0.3694785 ],\n",
       "        [-0.15964785,  0.43593377, -0.10309154,  0.45348832,  0.4002612 ,\n",
       "         -0.13587442,  0.39353552,  0.42903337, -0.08530214,  0.37237963,\n",
       "         -0.12178861, -0.13232687, -0.15361309],\n",
       "        [ 0.30512837, -0.059977  ,  0.34904116, -0.0837007 , -0.10523327,\n",
       "          0.24830353, -0.12645768, -0.09264699,  0.34960216, -0.13907434,\n",
       "          0.28295344,  0.2954423 ,  0.2549621 ],\n",
       "        [ 0.38206542, -0.15871383,  0.47642827, -0.18095009, -0.13347022,\n",
       "          0.4874035 , -0.15984526, -0.11932438,  0.5118385 , -0.13116926,\n",
       "          0.45607856,  0.37998912,  0.38607004],\n",
       "        [-0.11376966,  0.45549917, -0.10735972,  0.3614237 ,  0.3586363 ,\n",
       "         -0.1185326 ,  0.44489112,  0.35902146, -0.15965159,  0.40748268,\n",
       "         -0.17493965, -0.09122486, -0.1619072 ],\n",
       "        [-0.13788028,  0.29416287, -0.09682164,  0.2988776 ,  0.36257353,\n",
       "         -0.13006744,  0.38832647,  0.3770043 , -0.03645539,  0.33628437,\n",
       "         -0.14034052, -0.14446302, -0.15483432]], dtype=float32),\n",
       " array([ 0.0102787 , -0.01110645, -0.02331199, -0.0187406 , -0.02123331,\n",
       "        -0.01232587, -0.02996713, -0.03124064, -0.03377211, -0.02481532,\n",
       "         0.00879684, -0.00054316,  0.02105518], dtype=float32),\n",
       " array([[-0.2844159 ],\n",
       "        [ 0.29025033],\n",
       "        [-0.28671008],\n",
       "        [ 0.29570448],\n",
       "        [ 0.30339032],\n",
       "        [-0.31323606],\n",
       "        [ 0.3037812 ],\n",
       "        [ 0.2929692 ],\n",
       "        [-0.33542597],\n",
       "        [ 0.3029282 ],\n",
       "        [-0.29208305],\n",
       "        [-0.29987258],\n",
       "        [-0.25376457]], dtype=float32),\n",
       " array([0.06389578], dtype=float32)]"
      ]
     },
     "execution_count": 627,
     "metadata": {},
     "output_type": "execute_result"
    }
   ],
   "source": [
    "classifier.get_weights()"
   ]
  },
  {
   "cell_type": "code",
   "execution_count": null,
   "metadata": {},
   "outputs": [],
   "source": []
  },
  {
   "cell_type": "code",
   "execution_count": 628,
   "metadata": {},
   "outputs": [],
   "source": [
    "#!pip install h5py"
   ]
  },
  {
   "cell_type": "code",
   "execution_count": 629,
   "metadata": {},
   "outputs": [
    {
     "name": "stdout",
     "output_type": "stream",
     "text": [
      "Saved model to disk\n"
     ]
    }
   ],
   "source": [
    "# serialize model\n",
    "classifier.save(\"model.h5\")\n",
    "print(\"Saved model to disk\")"
   ]
  },
  {
   "cell_type": "code",
   "execution_count": 630,
   "metadata": {},
   "outputs": [],
   "source": [
    "network = models.load_model('model.h5')"
   ]
  },
  {
   "cell_type": "code",
   "execution_count": 631,
   "metadata": {},
   "outputs": [
    {
     "name": "stdout",
     "output_type": "stream",
     "text": [
      "Model: \"sequential\"\n",
      "_________________________________________________________________\n",
      "Layer (type)                 Output Shape              Param #   \n",
      "=================================================================\n",
      "dense (Dense)                (None, 8)                 104       \n",
      "_________________________________________________________________\n",
      "dense_1 (Dense)              (None, 13)                117       \n",
      "_________________________________________________________________\n",
      "dense_2 (Dense)              (None, 1)                 14        \n",
      "=================================================================\n",
      "Total params: 235\n",
      "Trainable params: 235\n",
      "Non-trainable params: 0\n",
      "_________________________________________________________________\n"
     ]
    }
   ],
   "source": [
    " network.summary()"
   ]
  },
  {
   "cell_type": "markdown",
   "metadata": {},
   "source": [
    "# save a list of np.arrays with the weights"
   ]
  },
  {
   "cell_type": "code",
   "execution_count": 632,
   "metadata": {},
   "outputs": [],
   "source": [
    "w = network.get_weights()"
   ]
  },
  {
   "cell_type": "code",
   "execution_count": 633,
   "metadata": {},
   "outputs": [
    {
     "data": {
      "text/plain": [
       "[array([[-0.3603898 , -0.26809478, -0.02232407, -0.2149682 , -0.06149188,\n",
       "         -0.12931043, -0.2969283 , -0.39386773],\n",
       "        [ 0.12183288,  0.00590229, -0.37774968,  0.09490937, -0.19423683,\n",
       "         -0.41574052,  0.09479546,  0.05737486],\n",
       "        [ 0.0414429 , -0.11955973, -0.00609483,  0.00876023,  0.14752947,\n",
       "          0.09325884,  0.02542422, -0.16261886],\n",
       "        [ 0.12666428, -0.07227533,  0.00256274,  0.01347588,  0.08007652,\n",
       "          0.0263181 ,  0.07420629,  0.07638595],\n",
       "        [ 0.13576402,  0.08438637,  0.26134914,  0.11335439,  0.24702975,\n",
       "          0.2515575 ,  0.09312797, -0.06983633],\n",
       "        [-0.08727752, -0.02309263, -0.20065367, -0.15902476,  0.05284054,\n",
       "         -0.11052427, -0.15451272,  0.19923742],\n",
       "        [ 0.30514294,  0.22839065,  0.26824215,  0.25024682,  0.07413047,\n",
       "          0.29483518,  0.20692492,  0.2938522 ],\n",
       "        [-0.16874434,  0.10873328,  0.17598094,  0.02417634,  0.2528206 ,\n",
       "          0.2617071 , -0.10133024, -0.06668205],\n",
       "        [ 0.0373509 , -0.02077081,  0.30614442,  0.12142836,  0.40202108,\n",
       "          0.26507652,  0.16977543, -0.13360842],\n",
       "        [-0.04891337,  0.1784822 , -0.00091718,  0.0246161 , -0.17133518,\n",
       "         -0.04550579,  0.03333908,  0.20506376],\n",
       "        [-0.24611087, -0.5633916 ,  0.18142009, -0.59145874,  0.11484479,\n",
       "          0.15088691, -0.5130145 , -0.05417832],\n",
       "        [-0.13715126, -0.17757845,  0.02282689, -0.21843523,  0.08912778,\n",
       "          0.02043197, -0.20060702, -0.13918416]], dtype=float32),\n",
       " array([-0.11503268, -0.06638708, -0.02056254, -0.09197994, -0.06311519,\n",
       "        -0.05007998, -0.0665082 , -0.05387426], dtype=float32),\n",
       " array([[-0.04339532,  0.3326254 , -0.00991985,  0.40103492,  0.3271906 ,\n",
       "          0.02920415,  0.41686147,  0.34084797,  0.0132806 ,  0.38555384,\n",
       "         -0.05224915, -0.05470778, -0.06077026],\n",
       "        [-0.15232383,  0.4517357 , -0.12634182,  0.44405392,  0.47848248,\n",
       "         -0.13437586,  0.41248757,  0.3973383 , -0.08851345,  0.4221271 ,\n",
       "         -0.11025904, -0.141059  , -0.12354793],\n",
       "        [ 0.4392094 , -0.13937925,  0.47654477, -0.12863919, -0.11765032,\n",
       "          0.43041298, -0.1417478 , -0.16556847,  0.502698  , -0.11365519,\n",
       "          0.36116764,  0.45173335,  0.3694785 ],\n",
       "        [-0.15964785,  0.43593377, -0.10309154,  0.45348832,  0.4002612 ,\n",
       "         -0.13587442,  0.39353552,  0.42903337, -0.08530214,  0.37237963,\n",
       "         -0.12178861, -0.13232687, -0.15361309],\n",
       "        [ 0.30512837, -0.059977  ,  0.34904116, -0.0837007 , -0.10523327,\n",
       "          0.24830353, -0.12645768, -0.09264699,  0.34960216, -0.13907434,\n",
       "          0.28295344,  0.2954423 ,  0.2549621 ],\n",
       "        [ 0.38206542, -0.15871383,  0.47642827, -0.18095009, -0.13347022,\n",
       "          0.4874035 , -0.15984526, -0.11932438,  0.5118385 , -0.13116926,\n",
       "          0.45607856,  0.37998912,  0.38607004],\n",
       "        [-0.11376966,  0.45549917, -0.10735972,  0.3614237 ,  0.3586363 ,\n",
       "         -0.1185326 ,  0.44489112,  0.35902146, -0.15965159,  0.40748268,\n",
       "         -0.17493965, -0.09122486, -0.1619072 ],\n",
       "        [-0.13788028,  0.29416287, -0.09682164,  0.2988776 ,  0.36257353,\n",
       "         -0.13006744,  0.38832647,  0.3770043 , -0.03645539,  0.33628437,\n",
       "         -0.14034052, -0.14446302, -0.15483432]], dtype=float32),\n",
       " array([ 0.0102787 , -0.01110645, -0.02331199, -0.0187406 , -0.02123331,\n",
       "        -0.01232587, -0.02996713, -0.03124064, -0.03377211, -0.02481532,\n",
       "         0.00879684, -0.00054316,  0.02105518], dtype=float32),\n",
       " array([[-0.2844159 ],\n",
       "        [ 0.29025033],\n",
       "        [-0.28671008],\n",
       "        [ 0.29570448],\n",
       "        [ 0.30339032],\n",
       "        [-0.31323606],\n",
       "        [ 0.3037812 ],\n",
       "        [ 0.2929692 ],\n",
       "        [-0.33542597],\n",
       "        [ 0.3029282 ],\n",
       "        [-0.29208305],\n",
       "        [-0.29987258],\n",
       "        [-0.25376457]], dtype=float32),\n",
       " array([0.06389578], dtype=float32)]"
      ]
     },
     "execution_count": 633,
     "metadata": {},
     "output_type": "execute_result"
    }
   ],
   "source": [
    "w"
   ]
  },
  {
   "cell_type": "code",
   "execution_count": 634,
   "metadata": {},
   "outputs": [
    {
     "data": {
      "text/plain": [
       "['dense/kernel:0',\n",
       " 'dense/bias:0',\n",
       " 'dense_1/kernel:0',\n",
       " 'dense_1/bias:0',\n",
       " 'dense_2/kernel:0',\n",
       " 'dense_2/bias:0']"
      ]
     },
     "execution_count": 634,
     "metadata": {},
     "output_type": "execute_result"
    }
   ],
   "source": [
    "# extract the names of the TF variables\n",
    "[v.name for v in network.weights]"
   ]
  },
  {
   "cell_type": "code",
   "execution_count": 635,
   "metadata": {},
   "outputs": [
    {
     "data": {
      "text/plain": [
       "(12, 8)"
      ]
     },
     "execution_count": 635,
     "metadata": {},
     "output_type": "execute_result"
    }
   ],
   "source": [
    "w[0].shape"
   ]
  },
  {
   "cell_type": "code",
   "execution_count": 636,
   "metadata": {},
   "outputs": [
    {
     "data": {
      "image/png": "[encoded data removed]",
      "text/plain": [
       "<Figure size 1008x432 with 1 Axes>"
      ]
     },
     "metadata": {
      "needs_background": "light"
     },
     "output_type": "display_data"
    }
   ],
   "source": [
    "plt.imshow(w[0][:,2].reshape((3, 4)))\n",
    "plt.show()"
   ]
  },
  {
   "cell_type": "markdown",
   "metadata": {},
   "source": [
    "# Drawing a Keras model"
   ]
  },
  {
   "cell_type": "code",
   "execution_count": 637,
   "metadata": {},
   "outputs": [],
   "source": [
    "#pip install pydot"
   ]
  },
  {
   "cell_type": "code",
   "execution_count": null,
   "metadata": {},
   "outputs": [],
   "source": [
    " "
   ]
  },
  {
   "cell_type": "code",
   "execution_count": 638,
   "metadata": {},
   "outputs": [
    {
     "data": {
      "image/png": "[encoded data removed]",
      "text/plain": [
       "<IPython.core.display.Image object>"
      ]
     },
     "execution_count": 638,
     "metadata": {},
     "output_type": "execute_result"
    }
   ],
   "source": [
    "from keras.models import Sequential\n",
    "from keras.layers import Dense\n",
    "from keras.utils.vis_utils import plot_model\n",
    "\n",
    "model = Sequential()\n",
    "model.add(Dense(activation = \"elu\", input_dim = 12, \n",
    "                     units = 8, kernel_initializer = \"uniform\"))\n",
    "model.add(Dense(activation = \"elu\", units = 13, \n",
    "                     kernel_initializer = \"uniform\"))\n",
    "model.add(Dense(activation = \"sigmoid\", units = 1, \n",
    "                     kernel_initializer = \"uniform\"))\n",
    "\n",
    "\n",
    "plot_model(model, to_file='model_plot.png', show_shapes=True, show_layer_names=True)"
   ]
  },
  {
   "cell_type": "code",
   "execution_count": null,
   "metadata": {},
   "outputs": [],
   "source": []
  },
  {
   "cell_type": "code",
   "execution_count": 639,
   "metadata": {},
   "outputs": [],
   "source": [
    "# Import turtle package\n",
    "import turtle\n",
    " \n",
    "turtle.speed(0)\n",
    "turtle.pensize(5)\n",
    "\n",
    "# Creating a turtle object(pen)\n",
    "pen = turtle.Turtle()\n",
    "  \n",
    "# Defining a method to draw curve\n",
    "def curve():\n",
    "    for i in range(200):\n",
    "  \n",
    "        # Defining step by step curve motion\n",
    "        pen.right(1)\n",
    "        pen.forward(1)\n",
    "  \n",
    "# Defining method to draw a full heart\n",
    "def heart():\n",
    "  \n",
    "    # Set the fill color to red\n",
    "    pen.fillcolor('red')\n",
    "  \n",
    "    # Start filling the color\n",
    "    pen.begin_fill()\n",
    "  \n",
    "    # Draw the left line\n",
    "    pen.left(140)\n",
    "    pen.forward(113)\n",
    "  \n",
    "    # Draw the left curve\n",
    "    curve()\n",
    "    pen.left(120)\n",
    "  \n",
    "    # Draw the right curve\n",
    "    curve()\n",
    "  \n",
    "    # Draw the right line\n",
    "    pen.forward(112)\n",
    "  \n",
    "    # Ending the filling of the color\n",
    "    pen.end_fill()\n",
    "  \n",
    "# Defining method to write text\n",
    "def txt():\n",
    "  \n",
    "    # Move turtle to air\n",
    "    pen.up()\n",
    "  \n",
    "    # Move turtle to a given position\n",
    "    pen.setpos(-68, 95)\n",
    "  \n",
    "    # Move the turtle to the ground\n",
    "    pen.down()\n",
    "  \n",
    "    # Set the text color to lightgreen\n",
    "    pen.color('black')\n",
    "  \n",
    "    # Write the specified text in \n",
    "    # specified font style and size\n",
    "    pen.write(\"THANKS TO ALL my SPICED TEACHERS\", font=(\n",
    "      \"Verdana\", 12, \"bold\"))\n",
    "  \n",
    "  \n",
    "# Draw a heart\n",
    "heart()\n",
    "  \n",
    "# Write text\n",
    "txt()\n",
    "  \n",
    "# To hide turtle\n",
    "pen.ht()"
   ]
  },
  {
   "cell_type": "code",
   "execution_count": null,
   "metadata": {},
   "outputs": [],
   "source": []
  },
  {
   "cell_type": "code",
   "execution_count": null,
   "metadata": {},
   "outputs": [],
   "source": []
  },
  {
   "cell_type": "code",
   "execution_count": null,
   "metadata": {},
   "outputs": [],
   "source": []
  }
 ],
 "metadata": {
  "kernelspec": {
   "display_name": "Python 3",
   "language": "python",
   "name": "python3"
  },
  "language_info": {
   "codemirror_mode": {
    "name": "ipython",
    "version": 3
   },
   "file_extension": ".py",
   "mimetype": "text/x-python",
   "name": "python",
   "nbconvert_exporter": "python",
   "pygments_lexer": "ipython3",
   "version": "3.8.5"
  }
 },
 "nbformat": 4,
 "nbformat_minor": 4
}
