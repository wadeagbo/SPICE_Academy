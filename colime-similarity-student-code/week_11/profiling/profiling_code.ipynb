{
 "cells": [
  {
   "cell_type": "markdown",
   "metadata": {},
   "source": [
    "# Python Code Profilng\n",
    "- Code / Example taken from Sebastian Mathot: \n",
    "    - https://www.youtube.com/watch?v=8qEnExGLZfY\n",
    "- Adapted / annotated / slightly edited for live demo as part of Code Profiling lesson."
   ]
  },
  {
   "cell_type": "markdown",
   "metadata": {},
   "source": [
    "## Goal: Find all duplicate movies from a text file of 10,000 movie titles."
   ]
  },
  {
   "cell_type": "code",
   "execution_count": null,
   "metadata": {},
   "outputs": [],
   "source": [
    "def read_movies(src):\n",
    "    \"\"\"Read movies from a text file, return the movie titles as a list\"\"\"\n",
    "    \n",
    "    with open(src) as f:\n",
    "        movie_list = f.read().splitlines() \n",
    "        return movie_list"
   ]
  },
  {
   "cell_type": "code",
   "execution_count": null,
   "metadata": {},
   "outputs": [],
   "source": [
    "def is_duplicate(item:str, collection:list) -> bool:\n",
    "    \n",
    "    \"\"\"Determine (True or False) whether a given item (i.e. movie)\n",
    "       is in a collection of other movie titles (i.e. list).\n",
    "       \n",
    "       If you've exhausted the list of movies and found no matches, return False.\"\"\"\n",
    "    \n",
    "    for movie in collection:\n",
    "        if movie.lower() == item.lower():\n",
    "            return True\n",
    "        \n",
    "    return False"
   ]
  },
  {
   "cell_type": "code",
   "execution_count": null,
   "metadata": {},
   "outputs": [],
   "source": [
    "def find_duplicate_movies(src='movies.txt') -> list:\n",
    "    \n",
    "    \"\"\"Return all movies that appear twice (i.e. duplicates) in the text file.\n",
    "       Search through the list of movies systematically, collecting duplicates as you go.\"\"\"\n",
    "    \n",
    "    movie_list = read_movies(src)\n",
    "    duplicates = []\n",
    "    \n",
    "    while movie_list: \n",
    "        \n",
    "        movie = movie_list.pop()\n",
    "        \n",
    "        if is_duplicate(movie, movie_list): \n",
    "            \n",
    "            duplicates.append(movie)\n",
    "            \n",
    "    \n",
    "    return duplicates"
   ]
  },
  {
   "cell_type": "markdown",
   "metadata": {},
   "source": [
    "---"
   ]
  },
  {
   "cell_type": "markdown",
   "metadata": {},
   "source": [
    "---"
   ]
  },
  {
   "cell_type": "markdown",
   "metadata": {},
   "source": [
    "---"
   ]
  },
  {
   "cell_type": "markdown",
   "metadata": {},
   "source": [
    "### cProfile decorator:"
   ]
  },
  {
   "cell_type": "code",
   "execution_count": null,
   "metadata": {},
   "outputs": [],
   "source": [
    "import cProfile, pstats, io\n",
    "\n",
    "\n",
    "def profile(fnc):\n",
    "    \n",
    "    \"\"\"A decorator that uses cProfile to profile a function. \n",
    "       Starts the profile before executing a function, then exeuctes the function,\n",
    "       then stops the profile, then prints out a diagnostics report.\n",
    "       \n",
    "       Lots of boilerplate code from the Python 3 documentation:\n",
    "       https://docs.python.org/3/library/profile.html#profile.Profile\n",
    "       \"\"\"\n",
    "    \n",
    "    def inner(*args, **kwargs):\n",
    "        \n",
    "        pr = cProfile.Profile()\n",
    "        pr.enable()  \n",
    "        retval = fnc(*args, **kwargs)       \n",
    "        pr.disable() \n",
    "        s = io.StringIO()\n",
    "        sortby = 'cumulative'\n",
    "        ps = pstats.Stats(pr, stream=s).sort_stats(sortby)\n",
    "        ps.print_stats()\n",
    "        print(s.getvalue())\n",
    "\n",
    "        return retval\n",
    "\n",
    "    return inner"
   ]
  },
  {
   "cell_type": "code",
   "execution_count": null,
   "metadata": {},
   "outputs": [],
   "source": []
  }
 ],
 "metadata": {
  "kernelspec": {
   "display_name": "Python 3",
   "language": "python",
   "name": "python3"
  },
  "language_info": {
   "codemirror_mode": {
    "name": "ipython",
    "version": 3
   },
   "file_extension": ".py",
   "mimetype": "text/x-python",
   "name": "python",
   "nbconvert_exporter": "python",
   "pygments_lexer": "ipython3",
   "version": "3.8.5"
  }
 },
 "nbformat": 4,
 "nbformat_minor": 4
}
